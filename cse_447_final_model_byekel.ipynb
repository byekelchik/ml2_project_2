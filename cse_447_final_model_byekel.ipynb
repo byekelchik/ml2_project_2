{
  "nbformat": 4,
  "nbformat_minor": 0,
  "metadata": {
    "colab": {
      "name": "cse_447_final_model_byekel",
      "provenance": [],
      "collapsed_sections": [],
      "toc_visible": true,
      "include_colab_link": true
    },
    "kernelspec": {
      "name": "python3",
      "display_name": "Python 3"
    },
    "language_info": {
      "name": "python"
    },
    "accelerator": "GPU"
  },
  "cells": [
    {
      "cell_type": "markdown",
      "metadata": {
        "id": "view-in-github",
        "colab_type": "text"
      },
      "source": [
        "<a href=\"https://colab.research.google.com/github/byekelchik/ml2_project_2/blob/main/cse_447_final_model_byekel.ipynb\" target=\"_parent\"><img src=\"https://colab.research.google.com/assets/colab-badge.svg\" alt=\"Open In Colab\"/></a>"
      ]
    },
    {
      "cell_type": "code",
      "execution_count": 1,
      "metadata": {
        "id": "_lW-u7cMN66k"
      },
      "outputs": [],
      "source": [
        "import pandas as pd\n",
        "import numpy as np\n",
        "\n",
        "from sklearn.preprocessing import StandardScaler\n",
        "from sklearn.pipeline import Pipeline\n",
        "# from sklearn.metrics\n",
        "from sklearn.svm import SVC\n",
        "from sklearn.model_selection import train_test_split,KFold\n",
        "from sklearn.metrics import confusion_matrix, classification_report, roc_auc_score, f1_score, accuracy_score\n",
        "\n",
        "import matplotlib.pyplot as plt\n",
        "\n",
        "from keras.datasets import mnist\n",
        "from keras.utils import np_utils"
      ]
    },
    {
      "cell_type": "code",
      "source": [
        "from google.colab import drive\n",
        "drive.mount('/content/drive')"
      ],
      "metadata": {
        "colab": {
          "base_uri": "https://localhost:8080/"
        },
        "id": "zKfPWL5dd1Cj",
        "outputId": "f7cbdb8e-6c28-44ef-b96b-8f27e9a2f1e5"
      },
      "execution_count": 2,
      "outputs": [
        {
          "output_type": "stream",
          "name": "stdout",
          "text": [
            "Mounted at /content/drive\n"
          ]
        }
      ]
    },
    {
      "cell_type": "markdown",
      "source": [
        "### Helper Functions"
      ],
      "metadata": {
        "id": "KQ2NBCSQ72se"
      }
    },
    {
      "cell_type": "code",
      "source": [
        "def get_mnist():\n",
        "  \"\"\"\n",
        "  Uses the paths from Keras to load MNIST data, creates train and test split of 90% and 10% of the training data\n",
        "\n",
        "  ##Returns:\n",
        "  - train_x: 90% of training data features\n",
        "  - test_x: 10% of training data features\n",
        "  - train_y: respective 90% of labels\n",
        "  - test_y respective 10% of labels\n",
        "  \"\"\"\n",
        "  \n",
        "  (train_data_complete, train_target_complete), (test_data_complete, test_target_complete) = mnist.load_data()\n",
        "  train_x, test_x, train_y, test_y = train_test_split(train_data_complete, train_target_complete, test_size = 0.1)\n",
        "  return train_x, test_x, train_y, test_y"
      ],
      "metadata": {
        "id": "qRWS7YRxOydq"
      },
      "execution_count": 3,
      "outputs": []
    },
    {
      "cell_type": "code",
      "source": [
        "def get_pie():\n",
        "  \"\"\"\n",
        "  Uses the paths on drive to get pie train and test\n",
        "\n",
        "  ##Returns:\n",
        "  - train_x: 90% of training data features\n",
        "  - test_x: 10% of training data features\n",
        "  - train_y: respective 90% of labels\n",
        "  - test_y respective 10% of labels\n",
        "  \"\"\"\n",
        "  path_pie_train = \"/content/drive/MyDrive/PIE_32x32/StTrainFile.txt\"\n",
        "  pie_train = np.loadtxt(path_pie_train, delimiter= \" \", dtype= np.float32)\n",
        "  pie_train_features = pie_train[:, 0:1024]\n",
        "  pie_train_features = np.reshape(pie_train_features, (pie_train_features.shape[0], 32, 32))\n",
        "  pie_train_labels = pie_train[:, 1024]\n",
        "\n",
        "  train_x, test_x, train_y, test_y = train_test_split(pie_train_features, pie_train_labels, test_size = 0.1)\n",
        "  return train_x, test_x, train_y, test_y"
      ],
      "metadata": {
        "id": "jiW7PIrKgafs"
      },
      "execution_count": 4,
      "outputs": []
    },
    {
      "cell_type": "code",
      "source": [
        "def get_yale():\n",
        "  \"\"\"\n",
        "  Uses the paths on drive to get YaleB train and test\n",
        "\n",
        "  ##Returns:\n",
        "  - train1_x: first set training data features\n",
        "  - train1_y: first set training data labels\n",
        "  - test1_x: first set testing data features\n",
        "  - test1_y: first set testing data labels\n",
        "\n",
        "  - train2_x: second set training data features\n",
        "  - train2_y: second set training data labels\n",
        "  - test2_x: second set testing data features\n",
        "  - test2_y: second set testing data labels\n",
        "\n",
        "  - train3_x: third set training data features\n",
        "  - train3_y: third set training data labels\n",
        "  - test3_x: third set testing data features\n",
        "  - test3_y: third set testing data labels\n",
        "  \"\"\"\n",
        "  path_yale_train_1 = \"/content/drive/MyDrive/YaleB_32x32/StTrainFile1.txt\"\n",
        "  path_yale_train_2 = \"/content/drive/MyDrive/YaleB_32x32/StTrainFile2.txt\"\n",
        "  path_yale_train_3 = \"/content/drive/MyDrive/YaleB_32x32/StTrainFile3.txt\"\n",
        "\n",
        "  path_yale_test_1 = \"/content/drive/MyDrive/YaleB_32x32/StTestFile1.txt\"\n",
        "  path_yale_test_2 = \"/content/drive/MyDrive/YaleB_32x32/StTestFile2.txt\"\n",
        "  path_yale_test_3 = \"/content/drive/MyDrive/YaleB_32x32/StTestFile3.txt\" \n",
        "\n",
        "\n",
        "  yale_train_1 = np.loadtxt(path_yale_train_1, delimiter= \" \", dtype= np.float32)\n",
        "  yale_train_2 = np.loadtxt(path_yale_train_2, delimiter= \" \", dtype= np.float32)\n",
        "  yale_train_3 = np.loadtxt(path_yale_train_3, delimiter= \" \", dtype= np.float32)\n",
        "\n",
        "  yale_test_1 = np.loadtxt(path_yale_test_1, delimiter= \" \", dtype= np.float32)\n",
        "  yale_test_2 = np.loadtxt(path_yale_test_2, delimiter= \" \", dtype= np.float32)\n",
        "  yale_test_3 = np.loadtxt(path_yale_test_3, delimiter= \" \", dtype= np.float32)\n",
        "\n",
        "  train1_x = yale_train_1[:, 0:1024]\n",
        "  train1_y = yale_train_1[:, 1024]\n",
        "\n",
        "  train2_x = yale_train_2[:, 0:1024]\n",
        "  train2_y = yale_train_2[:, 1024]\n",
        "\n",
        "  train3_x = yale_train_3[:, 0:1024]\n",
        "  train3_y = yale_train_3[:, 1024]\n",
        "\n",
        "  test1_x = yale_test_1[:, 0:1024]\n",
        "  test1_y = yale_test_1[:, 1024]\n",
        "\n",
        "  test2_x = yale_test_2[:, 0:1024]\n",
        "  test2_y = yale_test_2[:, 1024]\n",
        "\n",
        "  test3_x = yale_test_3[:, 0:1024]\n",
        "  test3_y = yale_test_3[:, 1024]\n",
        "\n",
        "  return train1_x, train1_y, train2_x, train2_y, train3_x, train3_y, test1_x, test1_y, test2_x, test2_y, test3_x, test3_y"
      ],
      "metadata": {
        "id": "1V8ngoVuvZ3k"
      },
      "execution_count": 5,
      "outputs": []
    },
    {
      "cell_type": "code",
      "source": [
        "def model_eval(test, pred,d_set:str):\n",
        "  \"\"\"\n",
        "  Take test and pred array and returns model evaluation metrics\n",
        "  ### Args:\n",
        "  - test: test array\n",
        "  - pred: pred array \n",
        "  -------------------------\n",
        "  ### Return:\n",
        "  - f1: F1 score\n",
        "  - roc: Multi-classification weighted ROC\n",
        "  - acc: Accuracy\n",
        "  \"\"\"\n",
        "  if d_set.lower() == 'pie' or 'yale':\n",
        "    pred_cat = np_utils.to_categorical(pred-1)\n",
        "  elif d_set.lower() == 'mnst':\n",
        "    print('mnst here')\n",
        "    pred_cat = np_utils.to_categorical(pred)\n",
        "  f1 = f1_score(test, pred, average = 'weighted')\n",
        "  roc = roc_auc_score(test, pred_cat, multi_class = 'ovr', average = 'weighted')\n",
        "  acc = accuracy_score(test,pred)\n",
        "  return round(f1,4), round(acc,4), round(roc,4)"
      ],
      "metadata": {
        "id": "Ou8ejNDgPeqw"
      },
      "execution_count": 6,
      "outputs": []
    },
    {
      "cell_type": "markdown",
      "source": [
        "\n",
        "### Data import and preprocessing"
      ],
      "metadata": {
        "id": "NzQe0UBSOyCZ"
      }
    },
    {
      "cell_type": "code",
      "source": [
        "yale_train1_x, yale_train1_y, yale_train2_x, yale_train2_y, yale_train3_x, yale_train3_y, yale_test1_x, yale_test1_y, yale_test2_x, yale_test2_y, yale_test3_x, yale_test3_y = get_yale()\n",
        "pie_train_x, pie_test_x, pie_train_y, pie_test_y = get_pie()\n",
        "mnist_train_x, mnist_test_x, mnist_train_y, mnist_test_y = get_mnist()"
      ],
      "metadata": {
        "id": "HWloDJmRi2HB",
        "colab": {
          "base_uri": "https://localhost:8080/"
        },
        "outputId": "3adf5142-6f93-4abb-9d72-0e0a9286e988"
      },
      "execution_count": 7,
      "outputs": [
        {
          "output_type": "stream",
          "name": "stdout",
          "text": [
            "Downloading data from https://storage.googleapis.com/tensorflow/tf-keras-datasets/mnist.npz\n",
            "11493376/11490434 [==============================] - 0s 0us/step\n",
            "11501568/11490434 [==============================] - 0s 0us/step\n"
          ]
        }
      ]
    },
    {
      "cell_type": "markdown",
      "source": [
        "#### Make Valadation Set"
      ],
      "metadata": {
        "id": "nFZZB-rif8hF"
      }
    },
    {
      "cell_type": "code",
      "source": [
        "from sklearn import model_selection\n",
        "val_size = .1\n",
        "pie_train_x, pie_val_x, pie_train_y, pie_val_y = train_test_split(pie_train_x,pie_train_y, test_size = val_size)\n",
        "mnist_train_x, mnist_val_x, mnist_train_y, mnist_val_y = train_test_split(mnist_train_x,mnist_train_y,test_size= val_size)"
      ],
      "metadata": {
        "id": "cEtUJ4KBf7UP"
      },
      "execution_count": 8,
      "outputs": []
    },
    {
      "cell_type": "markdown",
      "source": [
        "#### Reshape"
      ],
      "metadata": {
        "id": "uVA309lQgMnD"
      }
    },
    {
      "cell_type": "code",
      "source": [
        "\"\"\"Reshape train x data\"\"\"\n",
        "mnist_train_x_reshape = mnist_train_x.reshape(mnist_train_x.shape[0],mnist_train_x.shape[1]**2)\n",
        "pie_train_x_reshape = pie_train_x.reshape(pie_train_x.shape[0],pie_train_x.shape[1]**2)"
      ],
      "metadata": {
        "id": "k2q8JmRatgSS"
      },
      "execution_count": 9,
      "outputs": []
    },
    {
      "cell_type": "code",
      "source": [
        "\"\"\"Reshape testing x data\"\"\"\n",
        "mnist_test_x_reshape = mnist_test_x.reshape(mnist_test_x.shape[0],mnist_test_x.shape[1]**2)\n",
        "pie_test_x_reshape = pie_test_x.reshape(pie_test_x.shape[0],pie_test_x.shape[1]**2)"
      ],
      "metadata": {
        "id": "ZIFhEUr8gLZy"
      },
      "execution_count": 10,
      "outputs": []
    },
    {
      "cell_type": "markdown",
      "source": [
        "### Model Prototyping - Baseline"
      ],
      "metadata": {
        "id": "DETu5-NGPWGY"
      }
    },
    {
      "cell_type": "markdown",
      "source": [
        "#### PIE"
      ],
      "metadata": {
        "id": "hbWjI-G8DJqM"
      }
    },
    {
      "cell_type": "code",
      "source": [
        "pipe_pie = Pipeline(\n",
        "    [('scaled',StandardScaler()),\n",
        "     ('svc',SVC())\n",
        "     ])\n",
        "pipe_pie.fit(pie_train_x_reshape,pie_train_y)\n",
        "pie_pred = pipe_pie.predict(pie_test_x_reshape)"
      ],
      "metadata": {
        "id": "aNfW9oSTDLDJ"
      },
      "execution_count": 58,
      "outputs": []
    },
    {
      "cell_type": "markdown",
      "source": [
        "#### Yale"
      ],
      "metadata": {
        "id": "kOs8K3AZ8vig"
      }
    },
    {
      "cell_type": "code",
      "source": [
        "yale_data_call = np.array([yale_train1_x, yale_test1_x, yale_train1_y, yale_test1_y, yale_train2_x, yale_test2_x, yale_train2_y, yale_test2_y, yale_train3_x, yale_test3_x, yale_train3_y, yale_test3_y],dtype='object')\n",
        "acc_yale = np.zeros(3)\n",
        "f1_yale = np.empty_like(acc_yale)\n",
        "roc_yale = np.empty_like(acc_yale)\n",
        "model_yale_dstructre = {}\n",
        "pred_yale_dstructre = {}\n",
        "for i in range(0,3):\n",
        "  train_data, test_data, train_target, test_target = yale_data_call[0 + i*4], yale_data_call[1 + i*4], yale_data_call[2 + i*4], yale_data_call[3 + i*4]\n",
        "\n",
        "  ### Model Training ###\n",
        "  pipe_yale = Pipeline(\n",
        "    [('scaled',StandardScaler()),\n",
        "     ('svc',SVC())\n",
        "     ])\n",
        "  pipe_yale.fit(train_data,train_target) \n",
        "\n",
        "  ###Model Pred####\n",
        "  yale_pred = pipe_yale.predict(test_data)\n",
        "  \n",
        "  ###Model Eval Metrics###\n",
        "  f1_yale[i], acc_yale[i],roc_yale[i] = model_eval(test_target,yale_pred,'yale')\n",
        "  ###Saving model, pred, eval metrics###\n",
        "  pred_yale_dstructre[f'pred_{i}'] = yale_pred\n",
        "  model_yale_dstructre[f'model_{i}'] =pipe_yale "
      ],
      "metadata": {
        "id": "-l-HDP_k8xc8"
      },
      "execution_count": 59,
      "outputs": []
    },
    {
      "cell_type": "markdown",
      "source": [
        "#### MNST"
      ],
      "metadata": {
        "id": "EgzKWHAWDKQp"
      }
    },
    {
      "cell_type": "code",
      "source": [
        "mnst_pie = Pipeline(\n",
        "    [('scaled',StandardScaler()),\n",
        "     ('svc',SVC())\n",
        "     ])\n",
        "\n",
        "mnst_pie.fit(mnist_train_x_reshape, mnist_train_y)\n",
        "mnst_pred = mnst_pie.predict(mnist_test_x_reshape)"
      ],
      "metadata": {
        "id": "WhFCt0maPa9d"
      },
      "execution_count": null,
      "outputs": []
    },
    {
      "cell_type": "markdown",
      "source": [
        "### Model Testing - Baseline"
      ],
      "metadata": {
        "id": "8TqpGEvNPbMm"
      }
    },
    {
      "cell_type": "markdown",
      "source": [
        "#### PIE"
      ],
      "metadata": {
        "id": "qXX-Bo4xUvtL"
      }
    },
    {
      "cell_type": "code",
      "source": [
        "pie_f1,pie_acc,pie_roc = model_eval(pie_test_y, pie_pred,'pie')\n",
        "print(f'Pie accuracy: {pie_acc}')\n",
        "print(f'Pie F1: {pie_f1}')\n",
        "print(f'Pie ROC: {pie_roc}')"
      ],
      "metadata": {
        "id": "uOgLDz-zQ_eu",
        "colab": {
          "base_uri": "https://localhost:8080/"
        },
        "outputId": "94997709-1b41-4f57-d27e-233fcd349c6e"
      },
      "execution_count": 68,
      "outputs": [
        {
          "output_type": "stream",
          "name": "stdout",
          "text": [
            "Pie accuracy: 0.9615\n",
            "Pie F1: 0.9643\n",
            "Pie ROC: 0.9805\n"
          ]
        }
      ]
    },
    {
      "cell_type": "markdown",
      "source": [
        "#### MNIST\n"
      ],
      "metadata": {
        "id": "GC_Ok5CiUwJt"
      }
    },
    {
      "cell_type": "code",
      "source": [
        "mnst_f1, mnst_acc, mnst_roc = model_eval(mnist_test_y, mnst_pred,'mnst')\n",
        "print(f'MNST accuracy: {mnst_acc}')\n",
        "print(f'MNST F1: {mnst_f1}')\n",
        "print(f'MNST ROC:  {mnst_roc}')"
      ],
      "metadata": {
        "id": "I7pVUgJ9U5gY",
        "colab": {
          "base_uri": "https://localhost:8080/",
          "height": 373
        },
        "outputId": "2b4c846f-487c-4d87-9a22-f389445d0219"
      },
      "execution_count": 91,
      "outputs": [
        {
          "output_type": "error",
          "ename": "ValueError",
          "evalue": "ignored",
          "traceback": [
            "\u001b[0;31m---------------------------------------------------------------------------\u001b[0m",
            "\u001b[0;31mValueError\u001b[0m                                Traceback (most recent call last)",
            "\u001b[0;32m<ipython-input-91-2ac74d612686>\u001b[0m in \u001b[0;36m<module>\u001b[0;34m()\u001b[0m\n\u001b[0;32m----> 1\u001b[0;31m \u001b[0mmnst_f1\u001b[0m\u001b[0;34m,\u001b[0m \u001b[0mmnst_acc\u001b[0m\u001b[0;34m,\u001b[0m \u001b[0mmnst_roc\u001b[0m \u001b[0;34m=\u001b[0m \u001b[0mmodel_eval\u001b[0m\u001b[0;34m(\u001b[0m\u001b[0mmnist_test_y\u001b[0m\u001b[0;34m,\u001b[0m \u001b[0mmnst_pred\u001b[0m\u001b[0;34m,\u001b[0m\u001b[0;34m'mnst'\u001b[0m\u001b[0;34m)\u001b[0m\u001b[0;34m\u001b[0m\u001b[0;34m\u001b[0m\u001b[0m\n\u001b[0m\u001b[1;32m      2\u001b[0m \u001b[0mprint\u001b[0m\u001b[0;34m(\u001b[0m\u001b[0;34mf'MNST accuracy: {mnst_acc}'\u001b[0m\u001b[0;34m)\u001b[0m\u001b[0;34m\u001b[0m\u001b[0;34m\u001b[0m\u001b[0m\n\u001b[1;32m      3\u001b[0m \u001b[0mprint\u001b[0m\u001b[0;34m(\u001b[0m\u001b[0;34mf'MNST F1: {mnst_f1}'\u001b[0m\u001b[0;34m)\u001b[0m\u001b[0;34m\u001b[0m\u001b[0;34m\u001b[0m\u001b[0m\n\u001b[1;32m      4\u001b[0m \u001b[0mprint\u001b[0m\u001b[0;34m(\u001b[0m\u001b[0;34mf'MNST ROC:  {mnst_roc}'\u001b[0m\u001b[0;34m)\u001b[0m\u001b[0;34m\u001b[0m\u001b[0;34m\u001b[0m\u001b[0m\n",
            "\u001b[0;32m<ipython-input-90-bd8ddfa2cf09>\u001b[0m in \u001b[0;36mmodel_eval\u001b[0;34m(test, pred, d_set)\u001b[0m\n\u001b[1;32m     17\u001b[0m     \u001b[0mpred_cat\u001b[0m \u001b[0;34m=\u001b[0m \u001b[0mnp_utils\u001b[0m\u001b[0;34m.\u001b[0m\u001b[0mto_categorical\u001b[0m\u001b[0;34m(\u001b[0m\u001b[0mpred\u001b[0m\u001b[0;34m)\u001b[0m\u001b[0;34m\u001b[0m\u001b[0;34m\u001b[0m\u001b[0m\n\u001b[1;32m     18\u001b[0m   \u001b[0mf1\u001b[0m \u001b[0;34m=\u001b[0m \u001b[0mf1_score\u001b[0m\u001b[0;34m(\u001b[0m\u001b[0mtest\u001b[0m\u001b[0;34m,\u001b[0m \u001b[0mpred\u001b[0m\u001b[0;34m,\u001b[0m \u001b[0maverage\u001b[0m \u001b[0;34m=\u001b[0m \u001b[0;34m'weighted'\u001b[0m\u001b[0;34m)\u001b[0m\u001b[0;34m\u001b[0m\u001b[0;34m\u001b[0m\u001b[0m\n\u001b[0;32m---> 19\u001b[0;31m   \u001b[0mroc\u001b[0m \u001b[0;34m=\u001b[0m \u001b[0mroc_auc_score\u001b[0m\u001b[0;34m(\u001b[0m\u001b[0mtest\u001b[0m\u001b[0;34m,\u001b[0m \u001b[0mpred_cat\u001b[0m\u001b[0;34m,\u001b[0m \u001b[0mmulti_class\u001b[0m \u001b[0;34m=\u001b[0m \u001b[0;34m'ovr'\u001b[0m\u001b[0;34m,\u001b[0m \u001b[0maverage\u001b[0m \u001b[0;34m=\u001b[0m \u001b[0;34m'weighted'\u001b[0m\u001b[0;34m)\u001b[0m\u001b[0;34m\u001b[0m\u001b[0;34m\u001b[0m\u001b[0m\n\u001b[0m\u001b[1;32m     20\u001b[0m   \u001b[0macc\u001b[0m \u001b[0;34m=\u001b[0m \u001b[0maccuracy_score\u001b[0m\u001b[0;34m(\u001b[0m\u001b[0mtest\u001b[0m\u001b[0;34m,\u001b[0m\u001b[0mpred\u001b[0m\u001b[0;34m)\u001b[0m\u001b[0;34m\u001b[0m\u001b[0;34m\u001b[0m\u001b[0m\n\u001b[1;32m     21\u001b[0m   \u001b[0;32mreturn\u001b[0m \u001b[0mround\u001b[0m\u001b[0;34m(\u001b[0m\u001b[0mf1\u001b[0m\u001b[0;34m,\u001b[0m\u001b[0;36m4\u001b[0m\u001b[0;34m)\u001b[0m\u001b[0;34m,\u001b[0m \u001b[0mround\u001b[0m\u001b[0;34m(\u001b[0m\u001b[0macc\u001b[0m\u001b[0;34m,\u001b[0m\u001b[0;36m4\u001b[0m\u001b[0;34m)\u001b[0m\u001b[0;34m,\u001b[0m \u001b[0mround\u001b[0m\u001b[0;34m(\u001b[0m\u001b[0mroc\u001b[0m\u001b[0;34m,\u001b[0m\u001b[0;36m4\u001b[0m\u001b[0;34m)\u001b[0m\u001b[0;34m\u001b[0m\u001b[0;34m\u001b[0m\u001b[0m\n",
            "\u001b[0;32m/usr/local/lib/python3.7/dist-packages/sklearn/metrics/_ranking.py\u001b[0m in \u001b[0;36mroc_auc_score\u001b[0;34m(y_true, y_score, average, sample_weight, max_fpr, multi_class, labels)\u001b[0m\n\u001b[1;32m    560\u001b[0m             \u001b[0;32mraise\u001b[0m \u001b[0mValueError\u001b[0m\u001b[0;34m(\u001b[0m\u001b[0;34m\"multi_class must be in ('ovo', 'ovr')\"\u001b[0m\u001b[0;34m)\u001b[0m\u001b[0;34m\u001b[0m\u001b[0;34m\u001b[0m\u001b[0m\n\u001b[1;32m    561\u001b[0m         return _multiclass_roc_auc_score(\n\u001b[0;32m--> 562\u001b[0;31m             \u001b[0my_true\u001b[0m\u001b[0;34m,\u001b[0m \u001b[0my_score\u001b[0m\u001b[0;34m,\u001b[0m \u001b[0mlabels\u001b[0m\u001b[0;34m,\u001b[0m \u001b[0mmulti_class\u001b[0m\u001b[0;34m,\u001b[0m \u001b[0maverage\u001b[0m\u001b[0;34m,\u001b[0m \u001b[0msample_weight\u001b[0m\u001b[0;34m\u001b[0m\u001b[0;34m\u001b[0m\u001b[0m\n\u001b[0m\u001b[1;32m    563\u001b[0m         )\n\u001b[1;32m    564\u001b[0m     \u001b[0;32melif\u001b[0m \u001b[0my_type\u001b[0m \u001b[0;34m==\u001b[0m \u001b[0;34m\"binary\"\u001b[0m\u001b[0;34m:\u001b[0m\u001b[0;34m\u001b[0m\u001b[0;34m\u001b[0m\u001b[0m\n",
            "\u001b[0;32m/usr/local/lib/python3.7/dist-packages/sklearn/metrics/_ranking.py\u001b[0m in \u001b[0;36m_multiclass_roc_auc_score\u001b[0;34m(y_true, y_score, labels, multi_class, average, sample_weight)\u001b[0m\n\u001b[1;32m    664\u001b[0m         \u001b[0;32mif\u001b[0m \u001b[0mlen\u001b[0m\u001b[0;34m(\u001b[0m\u001b[0mclasses\u001b[0m\u001b[0;34m)\u001b[0m \u001b[0;34m!=\u001b[0m \u001b[0my_score\u001b[0m\u001b[0;34m.\u001b[0m\u001b[0mshape\u001b[0m\u001b[0;34m[\u001b[0m\u001b[0;36m1\u001b[0m\u001b[0;34m]\u001b[0m\u001b[0;34m:\u001b[0m\u001b[0;34m\u001b[0m\u001b[0;34m\u001b[0m\u001b[0m\n\u001b[1;32m    665\u001b[0m             raise ValueError(\n\u001b[0;32m--> 666\u001b[0;31m                 \u001b[0;34m\"Number of classes in y_true not equal to the number of \"\u001b[0m\u001b[0;34m\u001b[0m\u001b[0;34m\u001b[0m\u001b[0m\n\u001b[0m\u001b[1;32m    667\u001b[0m                 \u001b[0;34m\"columns in 'y_score'\"\u001b[0m\u001b[0;34m\u001b[0m\u001b[0;34m\u001b[0m\u001b[0m\n\u001b[1;32m    668\u001b[0m             )\n",
            "\u001b[0;31mValueError\u001b[0m: Number of classes in y_true not equal to the number of columns in 'y_score'"
          ]
        }
      ]
    },
    {
      "cell_type": "markdown",
      "source": [
        "#### Yale"
      ],
      "metadata": {
        "id": "F4v9vwmKB4J5"
      }
    },
    {
      "cell_type": "code",
      "source": [
        "print(f'Yale accuracy: {round(acc_yale.mean(),4)}')\n",
        "print(f'Yale F1: {round(f1_yale.mean(),4)}')\n",
        "print(f'Yale ROC: {round(roc_yale.mean(),4)}')"
      ],
      "metadata": {
        "colab": {
          "base_uri": "https://localhost:8080/"
        },
        "id": "mUc9-JXF4VOi",
        "outputId": "257e2351-6802-4fed-84b2-ec4adc2dfa93"
      },
      "execution_count": 92,
      "outputs": [
        {
          "output_type": "stream",
          "name": "stdout",
          "text": [
            "Yale accuracy: 0.9284\n",
            "Yale F1: 0.9413\n",
            "Yale ROC: 0.9632\n"
          ]
        }
      ]
    },
    {
      "cell_type": "markdown",
      "source": [
        "### HP Tuning"
      ],
      "metadata": {
        "id": "WteRh_-MXfxr"
      }
    },
    {
      "cell_type": "code",
      "source": [
        "kernel_tosearch = [\"poly\",\"rbf\",\"sigmoid\"]"
      ],
      "metadata": {
        "id": "jc24P1W26pXh"
      },
      "execution_count": 93,
      "outputs": []
    },
    {
      "cell_type": "markdown",
      "source": [
        "#### KFold for YaleB"
      ],
      "metadata": {
        "id": "yDBx4D4HYTG8"
      }
    },
    {
      "cell_type": "code",
      "source": [
        "n_folds = 3"
      ],
      "metadata": {
        "id": "4jjWOdfxYWIe"
      },
      "execution_count": 94,
      "outputs": []
    },
    {
      "cell_type": "markdown",
      "source": [
        "#### Val Set for Pie and MNIST"
      ],
      "metadata": {
        "id": "aPbaaoniYWew"
      }
    },
    {
      "cell_type": "markdown",
      "source": [
        "##### Pie"
      ],
      "metadata": {
        "id": "0am3_tncMUfb"
      }
    },
    {
      "cell_type": "code",
      "source": [
        "pie_val_f1 = np.zeros(len(kernel_tosearch)) #init eval metric arrays len of possible kernals\n",
        "pie_val_acc = np.empty_like(pie_val_f1)\n",
        "pie_val_roc = np.empty_like(pie_val_f1)"
      ],
      "metadata": {
        "id": "F0tGQiS6_MRS"
      },
      "execution_count": 95,
      "outputs": []
    },
    {
      "cell_type": "code",
      "source": [
        "for i in enumerate(kernel_tosearch): #for each possible kernel\n",
        "  print({\"kernel\":i[1]})\n",
        "  pipe_pie[1].set_params(**{\"kernel\":i[1]}) #set the kernel to new option\n",
        "  pipe_pie.fit(pie_train_x_reshape,pie_train_y) #fit on test\n",
        "  pie_val_pred = pipe_pie.predict(pie_val_x.reshape(pie_val_x.shape[0],pie_val_x.shape[1]**2)) #pred on val\n",
        "  pie_val_f1[i[0]], pie_val_acc[i[0]], pie_val_roc[i[0]] = model_eval(pie_val_y, pie_val_pred,'pie') #model eval pred val vs val_y"
      ],
      "metadata": {
        "colab": {
          "base_uri": "https://localhost:8080/"
        },
        "id": "DndaiAk_YZ7K",
        "outputId": "41f227e4-b185-4433-d03e-4ed6818a251d"
      },
      "execution_count": 97,
      "outputs": [
        {
          "output_type": "stream",
          "name": "stdout",
          "text": [
            "{'kernel': 'poly'}\n",
            "{'kernel': 'rbf'}\n",
            "{'kernel': 'sigmoid'}\n"
          ]
        }
      ]
    },
    {
      "cell_type": "code",
      "source": [
        "pie_val_data = np.vstack((pie_val_f1, pie_val_acc, pie_val_roc))\n",
        "pie_val_data_pd = pd.DataFrame(pie_val_data,columns = kernel_tosearch)\n",
        "pie_val_data_pd['eval_params']=['f1','acc','roc']\n",
        "pie_val_data_pd.set_index(\"eval_params\",inplace=True)"
      ],
      "metadata": {
        "id": "WKiQYWH0uDX1"
      },
      "execution_count": 122,
      "outputs": []
    },
    {
      "cell_type": "code",
      "source": [
        "print('Validation Performance')\n",
        "pie_val_data_pd"
      ],
      "metadata": {
        "colab": {
          "base_uri": "https://localhost:8080/",
          "height": 193
        },
        "id": "t2dyfDSIMN0w",
        "outputId": "37667fc3-a649-45ce-eda2-0ca22886b995"
      },
      "execution_count": 124,
      "outputs": [
        {
          "output_type": "stream",
          "name": "stdout",
          "text": [
            "Validation Performance\n"
          ]
        },
        {
          "output_type": "execute_result",
          "data": {
            "text/plain": [
              "               poly     rbf  sigmoid\n",
              "eval_params                         \n",
              "f1           0.8851  0.9602   0.3899\n",
              "acc          0.8686  0.9562   0.3323\n",
              "roc          0.9335  0.9778   0.6625"
            ],
            "text/html": [
              "\n",
              "  <div id=\"df-ba95ceb4-b94a-41d0-9456-7da975898aaf\">\n",
              "    <div class=\"colab-df-container\">\n",
              "      <div>\n",
              "<style scoped>\n",
              "    .dataframe tbody tr th:only-of-type {\n",
              "        vertical-align: middle;\n",
              "    }\n",
              "\n",
              "    .dataframe tbody tr th {\n",
              "        vertical-align: top;\n",
              "    }\n",
              "\n",
              "    .dataframe thead th {\n",
              "        text-align: right;\n",
              "    }\n",
              "</style>\n",
              "<table border=\"1\" class=\"dataframe\">\n",
              "  <thead>\n",
              "    <tr style=\"text-align: right;\">\n",
              "      <th></th>\n",
              "      <th>poly</th>\n",
              "      <th>rbf</th>\n",
              "      <th>sigmoid</th>\n",
              "    </tr>\n",
              "    <tr>\n",
              "      <th>eval_params</th>\n",
              "      <th></th>\n",
              "      <th></th>\n",
              "      <th></th>\n",
              "    </tr>\n",
              "  </thead>\n",
              "  <tbody>\n",
              "    <tr>\n",
              "      <th>f1</th>\n",
              "      <td>0.8851</td>\n",
              "      <td>0.9602</td>\n",
              "      <td>0.3899</td>\n",
              "    </tr>\n",
              "    <tr>\n",
              "      <th>acc</th>\n",
              "      <td>0.8686</td>\n",
              "      <td>0.9562</td>\n",
              "      <td>0.3323</td>\n",
              "    </tr>\n",
              "    <tr>\n",
              "      <th>roc</th>\n",
              "      <td>0.9335</td>\n",
              "      <td>0.9778</td>\n",
              "      <td>0.6625</td>\n",
              "    </tr>\n",
              "  </tbody>\n",
              "</table>\n",
              "</div>\n",
              "      <button class=\"colab-df-convert\" onclick=\"convertToInteractive('df-ba95ceb4-b94a-41d0-9456-7da975898aaf')\"\n",
              "              title=\"Convert this dataframe to an interactive table.\"\n",
              "              style=\"display:none;\">\n",
              "        \n",
              "  <svg xmlns=\"http://www.w3.org/2000/svg\" height=\"24px\"viewBox=\"0 0 24 24\"\n",
              "       width=\"24px\">\n",
              "    <path d=\"M0 0h24v24H0V0z\" fill=\"none\"/>\n",
              "    <path d=\"M18.56 5.44l.94 2.06.94-2.06 2.06-.94-2.06-.94-.94-2.06-.94 2.06-2.06.94zm-11 1L8.5 8.5l.94-2.06 2.06-.94-2.06-.94L8.5 2.5l-.94 2.06-2.06.94zm10 10l.94 2.06.94-2.06 2.06-.94-2.06-.94-.94-2.06-.94 2.06-2.06.94z\"/><path d=\"M17.41 7.96l-1.37-1.37c-.4-.4-.92-.59-1.43-.59-.52 0-1.04.2-1.43.59L10.3 9.45l-7.72 7.72c-.78.78-.78 2.05 0 2.83L4 21.41c.39.39.9.59 1.41.59.51 0 1.02-.2 1.41-.59l7.78-7.78 2.81-2.81c.8-.78.8-2.07 0-2.86zM5.41 20L4 18.59l7.72-7.72 1.47 1.35L5.41 20z\"/>\n",
              "  </svg>\n",
              "      </button>\n",
              "      \n",
              "  <style>\n",
              "    .colab-df-container {\n",
              "      display:flex;\n",
              "      flex-wrap:wrap;\n",
              "      gap: 12px;\n",
              "    }\n",
              "\n",
              "    .colab-df-convert {\n",
              "      background-color: #E8F0FE;\n",
              "      border: none;\n",
              "      border-radius: 50%;\n",
              "      cursor: pointer;\n",
              "      display: none;\n",
              "      fill: #1967D2;\n",
              "      height: 32px;\n",
              "      padding: 0 0 0 0;\n",
              "      width: 32px;\n",
              "    }\n",
              "\n",
              "    .colab-df-convert:hover {\n",
              "      background-color: #E2EBFA;\n",
              "      box-shadow: 0px 1px 2px rgba(60, 64, 67, 0.3), 0px 1px 3px 1px rgba(60, 64, 67, 0.15);\n",
              "      fill: #174EA6;\n",
              "    }\n",
              "\n",
              "    [theme=dark] .colab-df-convert {\n",
              "      background-color: #3B4455;\n",
              "      fill: #D2E3FC;\n",
              "    }\n",
              "\n",
              "    [theme=dark] .colab-df-convert:hover {\n",
              "      background-color: #434B5C;\n",
              "      box-shadow: 0px 1px 3px 1px rgba(0, 0, 0, 0.15);\n",
              "      filter: drop-shadow(0px 1px 2px rgba(0, 0, 0, 0.3));\n",
              "      fill: #FFFFFF;\n",
              "    }\n",
              "  </style>\n",
              "\n",
              "      <script>\n",
              "        const buttonEl =\n",
              "          document.querySelector('#df-ba95ceb4-b94a-41d0-9456-7da975898aaf button.colab-df-convert');\n",
              "        buttonEl.style.display =\n",
              "          google.colab.kernel.accessAllowed ? 'block' : 'none';\n",
              "\n",
              "        async function convertToInteractive(key) {\n",
              "          const element = document.querySelector('#df-ba95ceb4-b94a-41d0-9456-7da975898aaf');\n",
              "          const dataTable =\n",
              "            await google.colab.kernel.invokeFunction('convertToInteractive',\n",
              "                                                     [key], {});\n",
              "          if (!dataTable) return;\n",
              "\n",
              "          const docLinkHtml = 'Like what you see? Visit the ' +\n",
              "            '<a target=\"_blank\" href=https://colab.research.google.com/notebooks/data_table.ipynb>data table notebook</a>'\n",
              "            + ' to learn more about interactive tables.';\n",
              "          element.innerHTML = '';\n",
              "          dataTable['output_type'] = 'display_data';\n",
              "          await google.colab.output.renderOutput(dataTable, element);\n",
              "          const docLink = document.createElement('div');\n",
              "          docLink.innerHTML = docLinkHtml;\n",
              "          element.appendChild(docLink);\n",
              "        }\n",
              "      </script>\n",
              "    </div>\n",
              "  </div>\n",
              "  "
            ]
          },
          "metadata": {},
          "execution_count": 124
        }
      ]
    },
    {
      "cell_type": "markdown",
      "source": [
        "##### MNIST"
      ],
      "metadata": {
        "id": "CPO3N0GbMZTb"
      }
    },
    {
      "cell_type": "code",
      "source": [
        "mnist_val_f1 = np.zeros(len(kernel_tosearch)) #init eval metric arrays len of possible kernals\n",
        "mnist_val_acc = np.empty_like(mnist_val_f1)\n",
        "mnist_val_roc = np.empty_like(mnist_val_f1)\n",
        "for i in enumerate(kernel_tosearch): #for each possible kernel\n",
        "  print({\"kernel\":i[1]})\n",
        "  mnst_pie[1].set_params(**{\"kernel\":i[1]}) #set the kernel to new option\n",
        "  mnst_pie.fit(mnist_train_x_reshape,mnist_train_y) #fit on test\n",
        "  mnist_val_pred = mnst_pie.predict(mnist_val_x.reshape(mnist_val_x.shape[0],mnist_val_x.shape[1]**2)) #pred on val\n",
        "  mnist_val_f1[i[0]], mnist_val_acc[i[0]], mnist_val_roc[i[0]] = model_eval(mnist_val_y, mnist_val_pred,'pie') #model eval pred val vs val_y"
      ],
      "metadata": {
        "colab": {
          "base_uri": "https://localhost:8080/",
          "height": 373
        },
        "id": "yj_el5saMiqx",
        "outputId": "5b6d81e4-8b88-4ebc-cecb-549122360ef1"
      },
      "execution_count": 127,
      "outputs": [
        {
          "output_type": "stream",
          "name": "stdout",
          "text": [
            "{'kernel': 'poly'}\n"
          ]
        },
        {
          "output_type": "error",
          "ename": "ValueError",
          "evalue": "ignored",
          "traceback": [
            "\u001b[0;31m---------------------------------------------------------------------------\u001b[0m",
            "\u001b[0;31mValueError\u001b[0m                                Traceback (most recent call last)",
            "\u001b[0;32m<ipython-input-127-6c584ab0e0a1>\u001b[0m in \u001b[0;36m<module>\u001b[0;34m()\u001b[0m\n\u001b[1;32m      7\u001b[0m   \u001b[0mmnst_pie\u001b[0m\u001b[0;34m.\u001b[0m\u001b[0mfit\u001b[0m\u001b[0;34m(\u001b[0m\u001b[0mmnist_train_x_reshape\u001b[0m\u001b[0;34m,\u001b[0m\u001b[0mmnist_train_y\u001b[0m\u001b[0;34m)\u001b[0m \u001b[0;31m#fit on test\u001b[0m\u001b[0;34m\u001b[0m\u001b[0;34m\u001b[0m\u001b[0m\n\u001b[1;32m      8\u001b[0m   \u001b[0mmnist_val_pred\u001b[0m \u001b[0;34m=\u001b[0m \u001b[0mmnst_pie\u001b[0m\u001b[0;34m.\u001b[0m\u001b[0mpredict\u001b[0m\u001b[0;34m(\u001b[0m\u001b[0mmnist_val_x\u001b[0m\u001b[0;34m.\u001b[0m\u001b[0mreshape\u001b[0m\u001b[0;34m(\u001b[0m\u001b[0mmnist_val_x\u001b[0m\u001b[0;34m.\u001b[0m\u001b[0mshape\u001b[0m\u001b[0;34m[\u001b[0m\u001b[0;36m0\u001b[0m\u001b[0;34m]\u001b[0m\u001b[0;34m,\u001b[0m\u001b[0mmnist_val_x\u001b[0m\u001b[0;34m.\u001b[0m\u001b[0mshape\u001b[0m\u001b[0;34m[\u001b[0m\u001b[0;36m1\u001b[0m\u001b[0;34m]\u001b[0m\u001b[0;34m**\u001b[0m\u001b[0;36m2\u001b[0m\u001b[0;34m)\u001b[0m\u001b[0;34m)\u001b[0m \u001b[0;31m#pred on val\u001b[0m\u001b[0;34m\u001b[0m\u001b[0;34m\u001b[0m\u001b[0m\n\u001b[0;32m----> 9\u001b[0;31m   \u001b[0mmnist_val_f1\u001b[0m\u001b[0;34m[\u001b[0m\u001b[0mi\u001b[0m\u001b[0;34m[\u001b[0m\u001b[0;36m0\u001b[0m\u001b[0;34m]\u001b[0m\u001b[0;34m]\u001b[0m\u001b[0;34m,\u001b[0m \u001b[0mmnist_val_acc\u001b[0m\u001b[0;34m[\u001b[0m\u001b[0mi\u001b[0m\u001b[0;34m[\u001b[0m\u001b[0;36m0\u001b[0m\u001b[0;34m]\u001b[0m\u001b[0;34m]\u001b[0m\u001b[0;34m,\u001b[0m \u001b[0mmnist_val_roc\u001b[0m\u001b[0;34m[\u001b[0m\u001b[0mi\u001b[0m\u001b[0;34m[\u001b[0m\u001b[0;36m0\u001b[0m\u001b[0;34m]\u001b[0m\u001b[0;34m]\u001b[0m \u001b[0;34m=\u001b[0m \u001b[0mmodel_eval\u001b[0m\u001b[0;34m(\u001b[0m\u001b[0mmnist_val_y\u001b[0m\u001b[0;34m,\u001b[0m \u001b[0mmnist_val_pred\u001b[0m\u001b[0;34m,\u001b[0m\u001b[0;34m'pie'\u001b[0m\u001b[0;34m)\u001b[0m \u001b[0;31m#model eval pred val vs val_y\u001b[0m\u001b[0;34m\u001b[0m\u001b[0;34m\u001b[0m\u001b[0m\n\u001b[0m",
            "\u001b[0;32m<ipython-input-90-bd8ddfa2cf09>\u001b[0m in \u001b[0;36mmodel_eval\u001b[0;34m(test, pred, d_set)\u001b[0m\n\u001b[1;32m     17\u001b[0m     \u001b[0mpred_cat\u001b[0m \u001b[0;34m=\u001b[0m \u001b[0mnp_utils\u001b[0m\u001b[0;34m.\u001b[0m\u001b[0mto_categorical\u001b[0m\u001b[0;34m(\u001b[0m\u001b[0mpred\u001b[0m\u001b[0;34m)\u001b[0m\u001b[0;34m\u001b[0m\u001b[0;34m\u001b[0m\u001b[0m\n\u001b[1;32m     18\u001b[0m   \u001b[0mf1\u001b[0m \u001b[0;34m=\u001b[0m \u001b[0mf1_score\u001b[0m\u001b[0;34m(\u001b[0m\u001b[0mtest\u001b[0m\u001b[0;34m,\u001b[0m \u001b[0mpred\u001b[0m\u001b[0;34m,\u001b[0m \u001b[0maverage\u001b[0m \u001b[0;34m=\u001b[0m \u001b[0;34m'weighted'\u001b[0m\u001b[0;34m)\u001b[0m\u001b[0;34m\u001b[0m\u001b[0;34m\u001b[0m\u001b[0m\n\u001b[0;32m---> 19\u001b[0;31m   \u001b[0mroc\u001b[0m \u001b[0;34m=\u001b[0m \u001b[0mroc_auc_score\u001b[0m\u001b[0;34m(\u001b[0m\u001b[0mtest\u001b[0m\u001b[0;34m,\u001b[0m \u001b[0mpred_cat\u001b[0m\u001b[0;34m,\u001b[0m \u001b[0mmulti_class\u001b[0m \u001b[0;34m=\u001b[0m \u001b[0;34m'ovr'\u001b[0m\u001b[0;34m,\u001b[0m \u001b[0maverage\u001b[0m \u001b[0;34m=\u001b[0m \u001b[0;34m'weighted'\u001b[0m\u001b[0;34m)\u001b[0m\u001b[0;34m\u001b[0m\u001b[0;34m\u001b[0m\u001b[0m\n\u001b[0m\u001b[1;32m     20\u001b[0m   \u001b[0macc\u001b[0m \u001b[0;34m=\u001b[0m \u001b[0maccuracy_score\u001b[0m\u001b[0;34m(\u001b[0m\u001b[0mtest\u001b[0m\u001b[0;34m,\u001b[0m\u001b[0mpred\u001b[0m\u001b[0;34m)\u001b[0m\u001b[0;34m\u001b[0m\u001b[0;34m\u001b[0m\u001b[0m\n\u001b[1;32m     21\u001b[0m   \u001b[0;32mreturn\u001b[0m \u001b[0mround\u001b[0m\u001b[0;34m(\u001b[0m\u001b[0mf1\u001b[0m\u001b[0;34m,\u001b[0m\u001b[0;36m4\u001b[0m\u001b[0;34m)\u001b[0m\u001b[0;34m,\u001b[0m \u001b[0mround\u001b[0m\u001b[0;34m(\u001b[0m\u001b[0macc\u001b[0m\u001b[0;34m,\u001b[0m\u001b[0;36m4\u001b[0m\u001b[0;34m)\u001b[0m\u001b[0;34m,\u001b[0m \u001b[0mround\u001b[0m\u001b[0;34m(\u001b[0m\u001b[0mroc\u001b[0m\u001b[0;34m,\u001b[0m\u001b[0;36m4\u001b[0m\u001b[0;34m)\u001b[0m\u001b[0;34m\u001b[0m\u001b[0;34m\u001b[0m\u001b[0m\n",
            "\u001b[0;32m/usr/local/lib/python3.7/dist-packages/sklearn/metrics/_ranking.py\u001b[0m in \u001b[0;36mroc_auc_score\u001b[0;34m(y_true, y_score, average, sample_weight, max_fpr, multi_class, labels)\u001b[0m\n\u001b[1;32m    560\u001b[0m             \u001b[0;32mraise\u001b[0m \u001b[0mValueError\u001b[0m\u001b[0;34m(\u001b[0m\u001b[0;34m\"multi_class must be in ('ovo', 'ovr')\"\u001b[0m\u001b[0;34m)\u001b[0m\u001b[0;34m\u001b[0m\u001b[0;34m\u001b[0m\u001b[0m\n\u001b[1;32m    561\u001b[0m         return _multiclass_roc_auc_score(\n\u001b[0;32m--> 562\u001b[0;31m             \u001b[0my_true\u001b[0m\u001b[0;34m,\u001b[0m \u001b[0my_score\u001b[0m\u001b[0;34m,\u001b[0m \u001b[0mlabels\u001b[0m\u001b[0;34m,\u001b[0m \u001b[0mmulti_class\u001b[0m\u001b[0;34m,\u001b[0m \u001b[0maverage\u001b[0m\u001b[0;34m,\u001b[0m \u001b[0msample_weight\u001b[0m\u001b[0;34m\u001b[0m\u001b[0;34m\u001b[0m\u001b[0m\n\u001b[0m\u001b[1;32m    563\u001b[0m         )\n\u001b[1;32m    564\u001b[0m     \u001b[0;32melif\u001b[0m \u001b[0my_type\u001b[0m \u001b[0;34m==\u001b[0m \u001b[0;34m\"binary\"\u001b[0m\u001b[0;34m:\u001b[0m\u001b[0;34m\u001b[0m\u001b[0;34m\u001b[0m\u001b[0m\n",
            "\u001b[0;32m/usr/local/lib/python3.7/dist-packages/sklearn/metrics/_ranking.py\u001b[0m in \u001b[0;36m_multiclass_roc_auc_score\u001b[0;34m(y_true, y_score, labels, multi_class, average, sample_weight)\u001b[0m\n\u001b[1;32m    664\u001b[0m         \u001b[0;32mif\u001b[0m \u001b[0mlen\u001b[0m\u001b[0;34m(\u001b[0m\u001b[0mclasses\u001b[0m\u001b[0;34m)\u001b[0m \u001b[0;34m!=\u001b[0m \u001b[0my_score\u001b[0m\u001b[0;34m.\u001b[0m\u001b[0mshape\u001b[0m\u001b[0;34m[\u001b[0m\u001b[0;36m1\u001b[0m\u001b[0;34m]\u001b[0m\u001b[0;34m:\u001b[0m\u001b[0;34m\u001b[0m\u001b[0;34m\u001b[0m\u001b[0m\n\u001b[1;32m    665\u001b[0m             raise ValueError(\n\u001b[0;32m--> 666\u001b[0;31m                 \u001b[0;34m\"Number of classes in y_true not equal to the number of \"\u001b[0m\u001b[0;34m\u001b[0m\u001b[0;34m\u001b[0m\u001b[0m\n\u001b[0m\u001b[1;32m    667\u001b[0m                 \u001b[0;34m\"columns in 'y_score'\"\u001b[0m\u001b[0;34m\u001b[0m\u001b[0;34m\u001b[0m\u001b[0m\n\u001b[1;32m    668\u001b[0m             )\n",
            "\u001b[0;31mValueError\u001b[0m: Number of classes in y_true not equal to the number of columns in 'y_score'"
          ]
        }
      ]
    },
    {
      "cell_type": "code",
      "source": [
        "mnist_val_data = np.vstack((mnist_val_f1, mnist_val_acc, mnist_val_roc))\n",
        "mnst_val_data_pd = pd.DataFrame(mnist_val_data,columns = kernel_tosearch)\n",
        "mnst_val_data_pd['eval_params']=['f1','acc','roc']\n",
        "mnst_val_data_pd.set_index(\"eval_params\",inplace=True)\n",
        "print('Validation Performance')\n",
        "mnst_val_data_pd"
      ],
      "metadata": {
        "colab": {
          "base_uri": "https://localhost:8080/",
          "height": 193
        },
        "id": "n190P4F6Ni8L",
        "outputId": "6fd284c0-69f1-45ea-93a0-ef295e403ebf"
      },
      "execution_count": 126,
      "outputs": [
        {
          "output_type": "stream",
          "name": "stdout",
          "text": [
            "Validation Performance\n"
          ]
        },
        {
          "output_type": "execute_result",
          "data": {
            "text/plain": [
              "               poly     rbf  sigmoid\n",
              "eval_params                         \n",
              "f1           0.8851  0.9602   0.3899\n",
              "acc          0.8686  0.9562   0.3323\n",
              "roc          0.9335  0.9778   0.6625"
            ],
            "text/html": [
              "\n",
              "  <div id=\"df-ada4cc33-d2d6-4604-bfaa-60abf4c9af0d\">\n",
              "    <div class=\"colab-df-container\">\n",
              "      <div>\n",
              "<style scoped>\n",
              "    .dataframe tbody tr th:only-of-type {\n",
              "        vertical-align: middle;\n",
              "    }\n",
              "\n",
              "    .dataframe tbody tr th {\n",
              "        vertical-align: top;\n",
              "    }\n",
              "\n",
              "    .dataframe thead th {\n",
              "        text-align: right;\n",
              "    }\n",
              "</style>\n",
              "<table border=\"1\" class=\"dataframe\">\n",
              "  <thead>\n",
              "    <tr style=\"text-align: right;\">\n",
              "      <th></th>\n",
              "      <th>poly</th>\n",
              "      <th>rbf</th>\n",
              "      <th>sigmoid</th>\n",
              "    </tr>\n",
              "    <tr>\n",
              "      <th>eval_params</th>\n",
              "      <th></th>\n",
              "      <th></th>\n",
              "      <th></th>\n",
              "    </tr>\n",
              "  </thead>\n",
              "  <tbody>\n",
              "    <tr>\n",
              "      <th>f1</th>\n",
              "      <td>0.8851</td>\n",
              "      <td>0.9602</td>\n",
              "      <td>0.3899</td>\n",
              "    </tr>\n",
              "    <tr>\n",
              "      <th>acc</th>\n",
              "      <td>0.8686</td>\n",
              "      <td>0.9562</td>\n",
              "      <td>0.3323</td>\n",
              "    </tr>\n",
              "    <tr>\n",
              "      <th>roc</th>\n",
              "      <td>0.9335</td>\n",
              "      <td>0.9778</td>\n",
              "      <td>0.6625</td>\n",
              "    </tr>\n",
              "  </tbody>\n",
              "</table>\n",
              "</div>\n",
              "      <button class=\"colab-df-convert\" onclick=\"convertToInteractive('df-ada4cc33-d2d6-4604-bfaa-60abf4c9af0d')\"\n",
              "              title=\"Convert this dataframe to an interactive table.\"\n",
              "              style=\"display:none;\">\n",
              "        \n",
              "  <svg xmlns=\"http://www.w3.org/2000/svg\" height=\"24px\"viewBox=\"0 0 24 24\"\n",
              "       width=\"24px\">\n",
              "    <path d=\"M0 0h24v24H0V0z\" fill=\"none\"/>\n",
              "    <path d=\"M18.56 5.44l.94 2.06.94-2.06 2.06-.94-2.06-.94-.94-2.06-.94 2.06-2.06.94zm-11 1L8.5 8.5l.94-2.06 2.06-.94-2.06-.94L8.5 2.5l-.94 2.06-2.06.94zm10 10l.94 2.06.94-2.06 2.06-.94-2.06-.94-.94-2.06-.94 2.06-2.06.94z\"/><path d=\"M17.41 7.96l-1.37-1.37c-.4-.4-.92-.59-1.43-.59-.52 0-1.04.2-1.43.59L10.3 9.45l-7.72 7.72c-.78.78-.78 2.05 0 2.83L4 21.41c.39.39.9.59 1.41.59.51 0 1.02-.2 1.41-.59l7.78-7.78 2.81-2.81c.8-.78.8-2.07 0-2.86zM5.41 20L4 18.59l7.72-7.72 1.47 1.35L5.41 20z\"/>\n",
              "  </svg>\n",
              "      </button>\n",
              "      \n",
              "  <style>\n",
              "    .colab-df-container {\n",
              "      display:flex;\n",
              "      flex-wrap:wrap;\n",
              "      gap: 12px;\n",
              "    }\n",
              "\n",
              "    .colab-df-convert {\n",
              "      background-color: #E8F0FE;\n",
              "      border: none;\n",
              "      border-radius: 50%;\n",
              "      cursor: pointer;\n",
              "      display: none;\n",
              "      fill: #1967D2;\n",
              "      height: 32px;\n",
              "      padding: 0 0 0 0;\n",
              "      width: 32px;\n",
              "    }\n",
              "\n",
              "    .colab-df-convert:hover {\n",
              "      background-color: #E2EBFA;\n",
              "      box-shadow: 0px 1px 2px rgba(60, 64, 67, 0.3), 0px 1px 3px 1px rgba(60, 64, 67, 0.15);\n",
              "      fill: #174EA6;\n",
              "    }\n",
              "\n",
              "    [theme=dark] .colab-df-convert {\n",
              "      background-color: #3B4455;\n",
              "      fill: #D2E3FC;\n",
              "    }\n",
              "\n",
              "    [theme=dark] .colab-df-convert:hover {\n",
              "      background-color: #434B5C;\n",
              "      box-shadow: 0px 1px 3px 1px rgba(0, 0, 0, 0.15);\n",
              "      filter: drop-shadow(0px 1px 2px rgba(0, 0, 0, 0.3));\n",
              "      fill: #FFFFFF;\n",
              "    }\n",
              "  </style>\n",
              "\n",
              "      <script>\n",
              "        const buttonEl =\n",
              "          document.querySelector('#df-ada4cc33-d2d6-4604-bfaa-60abf4c9af0d button.colab-df-convert');\n",
              "        buttonEl.style.display =\n",
              "          google.colab.kernel.accessAllowed ? 'block' : 'none';\n",
              "\n",
              "        async function convertToInteractive(key) {\n",
              "          const element = document.querySelector('#df-ada4cc33-d2d6-4604-bfaa-60abf4c9af0d');\n",
              "          const dataTable =\n",
              "            await google.colab.kernel.invokeFunction('convertToInteractive',\n",
              "                                                     [key], {});\n",
              "          if (!dataTable) return;\n",
              "\n",
              "          const docLinkHtml = 'Like what you see? Visit the ' +\n",
              "            '<a target=\"_blank\" href=https://colab.research.google.com/notebooks/data_table.ipynb>data table notebook</a>'\n",
              "            + ' to learn more about interactive tables.';\n",
              "          element.innerHTML = '';\n",
              "          dataTable['output_type'] = 'display_data';\n",
              "          await google.colab.output.renderOutput(dataTable, element);\n",
              "          const docLink = document.createElement('div');\n",
              "          docLink.innerHTML = docLinkHtml;\n",
              "          element.appendChild(docLink);\n",
              "        }\n",
              "      </script>\n",
              "    </div>\n",
              "  </div>\n",
              "  "
            ]
          },
          "metadata": {},
          "execution_count": 126
        }
      ]
    }
  ]
}