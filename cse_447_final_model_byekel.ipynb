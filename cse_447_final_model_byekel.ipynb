{
  "nbformat": 4,
  "nbformat_minor": 0,
  "metadata": {
    "colab": {
      "name": "cse_447_final_model_byekel",
      "provenance": [],
      "collapsed_sections": [],
      "include_colab_link": true
    },
    "kernelspec": {
      "name": "python3",
      "display_name": "Python 3"
    },
    "language_info": {
      "name": "python"
    },
    "accelerator": "GPU"
  },
  "cells": [
    {
      "cell_type": "markdown",
      "metadata": {
        "id": "view-in-github",
        "colab_type": "text"
      },
      "source": [
        "<a href=\"https://colab.research.google.com/github/byekelchik/ml2_project_2/blob/main/cse_447_final_model_byekel.ipynb\" target=\"_parent\"><img src=\"https://colab.research.google.com/assets/colab-badge.svg\" alt=\"Open In Colab\"/></a>"
      ]
    },
    {
      "cell_type": "code",
      "execution_count": null,
      "metadata": {
        "id": "_lW-u7cMN66k"
      },
      "outputs": [],
      "source": [
        "import pandas as pd\n",
        "import numpy as np\n",
        "\n",
        "from sklearn.preprocessing import StandardScaler\n",
        "from sklearn.pipeline import Pipeline\n",
        "# from sklearn.metrics\n",
        "from sklearn.svm import SVC\n",
        "from sklearn.model_selection import train_test_split,KFold\n",
        "from sklearn.metrics import confusion_matrix, classification_report, roc_auc_score, f1_score, accuracy_score\n",
        "\n",
        "import matplotlib.pyplot as plt\n",
        "\n",
        "from keras.datasets import mnist\n",
        "from keras.utils import np_utils"
      ]
    },
    {
      "cell_type": "code",
      "source": [
        "from google.colab import drive\n",
        "drive.mount('/content/drive')"
      ],
      "metadata": {
        "colab": {
          "base_uri": "https://localhost:8080/"
        },
        "id": "zKfPWL5dd1Cj",
        "outputId": "f7cbdb8e-6c28-44ef-b96b-8f27e9a2f1e5"
      },
      "execution_count": null,
      "outputs": [
        {
          "output_type": "stream",
          "name": "stdout",
          "text": [
            "Mounted at /content/drive\n"
          ]
        }
      ]
    },
    {
      "cell_type": "markdown",
      "source": [
        "### Helper Functions"
      ],
      "metadata": {
        "id": "KQ2NBCSQ72se"
      }
    },
    {
      "cell_type": "code",
      "source": [
        "def get_mnist():\n",
        "  \"\"\"\n",
        "  Uses the paths from Keras to load MNIST data, creates train and test split of 90% and 10% of the training data\n",
        "\n",
        "  ##Returns:\n",
        "  - train_x: 90% of training data features\n",
        "  - test_x: 10% of training data features\n",
        "  - train_y: respective 90% of labels\n",
        "  - test_y respective 10% of labels\n",
        "  \"\"\"\n",
        "  \n",
        "  (train_data_complete, train_target_complete), (test_data_complete, test_target_complete) = mnist.load_data()\n",
        "  train_x, test_x, train_y, test_y = train_test_split(train_data_complete, train_target_complete, test_size = 0.1)\n",
        "  return train_x, test_x, train_y, test_y"
      ],
      "metadata": {
        "id": "qRWS7YRxOydq"
      },
      "execution_count": null,
      "outputs": []
    },
    {
      "cell_type": "code",
      "source": [
        "def get_pie():\n",
        "  \"\"\"\n",
        "  Uses the paths on drive to get pie train and test\n",
        "\n",
        "  ##Returns:\n",
        "  - train_x: 90% of training data features\n",
        "  - test_x: 10% of training data features\n",
        "  - train_y: respective 90% of labels\n",
        "  - test_y respective 10% of labels\n",
        "  \"\"\"\n",
        "  path_pie_train = \"/content/drive/MyDrive/PIE_32x32/StTrainFile.txt\"\n",
        "  pie_train = np.loadtxt(path_pie_train, delimiter= \" \", dtype= np.float32)\n",
        "  pie_train_features = pie_train[:, 0:1024]\n",
        "  pie_train_features = np.reshape(pie_train_features, (pie_train_features.shape[0], 32, 32))\n",
        "  pie_train_labels = pie_train[:, 1024]\n",
        "\n",
        "  train_x, test_x, train_y, test_y = train_test_split(pie_train_features, pie_train_labels, test_size = 0.1)\n",
        "  return train_x, test_x, train_y, test_y"
      ],
      "metadata": {
        "id": "jiW7PIrKgafs"
      },
      "execution_count": null,
      "outputs": []
    },
    {
      "cell_type": "code",
      "source": [
        "def get_yale():\n",
        "  \"\"\"\n",
        "  Uses the paths on drive to get YaleB train and test\n",
        "\n",
        "  ##Returns:\n",
        "  - train1_x: first set training data features\n",
        "  - train1_y: first set training data labels\n",
        "  - test1_x: first set testing data features\n",
        "  - test1_y: first set testing data labels\n",
        "\n",
        "  - train2_x: second set training data features\n",
        "  - train2_y: second set training data labels\n",
        "  - test2_x: second set testing data features\n",
        "  - test2_y: second set testing data labels\n",
        "\n",
        "  - train3_x: third set training data features\n",
        "  - train3_y: third set training data labels\n",
        "  - test3_x: third set testing data features\n",
        "  - test3_y: third set testing data labels\n",
        "  \"\"\"\n",
        "  path_yale_train_1 = \"/content/drive/MyDrive/YaleB_32x32/StTrainFile1.txt\"\n",
        "  path_yale_train_2 = \"/content/drive/MyDrive/YaleB_32x32/StTrainFile2.txt\"\n",
        "  path_yale_train_3 = \"/content/drive/MyDrive/YaleB_32x32/StTrainFile3.txt\"\n",
        "\n",
        "  path_yale_test_1 = \"/content/drive/MyDrive/YaleB_32x32/StTestFile1.txt\"\n",
        "  path_yale_test_2 = \"/content/drive/MyDrive/YaleB_32x32/StTestFile2.txt\"\n",
        "  path_yale_test_3 = \"/content/drive/MyDrive/YaleB_32x32/StTestFile3.txt\" \n",
        "\n",
        "\n",
        "  yale_train_1 = np.loadtxt(path_yale_train_1, delimiter= \" \", dtype= np.float32)\n",
        "  yale_train_2 = np.loadtxt(path_yale_train_2, delimiter= \" \", dtype= np.float32)\n",
        "  yale_train_3 = np.loadtxt(path_yale_train_3, delimiter= \" \", dtype= np.float32)\n",
        "\n",
        "  yale_test_1 = np.loadtxt(path_yale_test_1, delimiter= \" \", dtype= np.float32)\n",
        "  yale_test_2 = np.loadtxt(path_yale_test_2, delimiter= \" \", dtype= np.float32)\n",
        "  yale_test_3 = np.loadtxt(path_yale_test_3, delimiter= \" \", dtype= np.float32)\n",
        "\n",
        "  train1_x = yale_train_1[:, 0:1024]\n",
        "  train1_y = yale_train_1[:, 1024]\n",
        "\n",
        "  train2_x = yale_train_2[:, 0:1024]\n",
        "  train2_y = yale_train_2[:, 1024]\n",
        "\n",
        "  train3_x = yale_train_3[:, 0:1024]\n",
        "  train3_y = yale_train_3[:, 1024]\n",
        "\n",
        "  test1_x = yale_test_1[:, 0:1024]\n",
        "  test1_y = yale_test_1[:, 1024]\n",
        "\n",
        "  test2_x = yale_test_2[:, 0:1024]\n",
        "  test2_y = yale_test_2[:, 1024]\n",
        "\n",
        "  test3_x = yale_test_3[:, 0:1024]\n",
        "  test3_y = yale_test_3[:, 1024]\n",
        "\n",
        "  return train1_x, train1_y, train2_x, train2_y, train3_x, train3_y, test1_x, test1_y, test2_x, test2_y, test3_x, test3_y"
      ],
      "metadata": {
        "id": "1V8ngoVuvZ3k"
      },
      "execution_count": null,
      "outputs": []
    },
    {
      "cell_type": "code",
      "source": [
        "def model_eval(test, pred,d_set:str):\n",
        "  \"\"\"\n",
        "  Take test and pred array and returns model evaluation metrics\n",
        "  ### Args:\n",
        "  - test: test array\n",
        "  - pred: pred array \n",
        "  -------------------------\n",
        "  ### Return:\n",
        "  - f1: F1 score\n",
        "  - roc: Multi-classification weighted ROC\n",
        "  - acc: Accuracy\n",
        "  \"\"\"\n",
        "  if d_set.lower() == ('pie' or 'yale'):\n",
        "    pred_cat = np_utils.to_categorical(pred-1)\n",
        "  elif d_set.lower() == 'mnst':\n",
        "    pred_cat = np_utils.to_categorical(pred)\n",
        "  f1 = f1_score(test, pred, average = 'weighted')\n",
        "  roc = roc_auc_score(test, pred_cat, multi_class = 'ovr', average = 'weighted')\n",
        "  acc = accuracy_score(test,pred)\n",
        "  return round(f1,4), round(acc,4), round(roc,4)"
      ],
      "metadata": {
        "id": "Ou8ejNDgPeqw"
      },
      "execution_count": null,
      "outputs": []
    },
    {
      "cell_type": "markdown",
      "source": [
        "\n",
        "### Data import and preprocessing"
      ],
      "metadata": {
        "id": "NzQe0UBSOyCZ"
      }
    },
    {
      "cell_type": "code",
      "source": [
        "yale_train1_x, yale_train1_y, yale_train2_x, yale_train2_y, yale_train3_x, yale_train3_y, yale_test1_x, yale_test1_y, yale_test2_x, yale_test2_y, yale_test3_x, yale_test3_y = get_yale()\n",
        "pie_train_x, pie_test_x, pie_train_y, pie_test_y = get_pie()\n",
        "mnist_train_x, mnist_test_x, mnist_train_y, mnist_test_y = get_mnist()"
      ],
      "metadata": {
        "id": "HWloDJmRi2HB",
        "colab": {
          "base_uri": "https://localhost:8080/"
        },
        "outputId": "3adf5142-6f93-4abb-9d72-0e0a9286e988"
      },
      "execution_count": null,
      "outputs": [
        {
          "output_type": "stream",
          "name": "stdout",
          "text": [
            "Downloading data from https://storage.googleapis.com/tensorflow/tf-keras-datasets/mnist.npz\n",
            "11493376/11490434 [==============================] - 0s 0us/step\n",
            "11501568/11490434 [==============================] - 0s 0us/step\n"
          ]
        }
      ]
    },
    {
      "cell_type": "markdown",
      "source": [
        "#### Make Valadation Set"
      ],
      "metadata": {
        "id": "nFZZB-rif8hF"
      }
    },
    {
      "cell_type": "code",
      "source": [
        "from sklearn import model_selection\n",
        "val_size = .1\n",
        "pie_train_x, pie_val_x, pie_train_y, pie_val_y = train_test_split(pie_train_x,pie_train_y, test_size = val_size)\n",
        "mnist_train_x, mnist_val_x, mnist_train_y, mnist_val_y = train_test_split(mnist_train_x,mnist_train_y,test_size= val_size)"
      ],
      "metadata": {
        "id": "cEtUJ4KBf7UP"
      },
      "execution_count": null,
      "outputs": []
    },
    {
      "cell_type": "markdown",
      "source": [
        "#### Reshape"
      ],
      "metadata": {
        "id": "uVA309lQgMnD"
      }
    },
    {
      "cell_type": "code",
      "source": [
        "\"\"\"Reshape train x data\"\"\"\n",
        "mnist_train_x_reshape = mnist_train_x.reshape(mnist_train_x.shape[0],mnist_train_x.shape[1]**2)\n",
        "pie_train_x_reshape = pie_train_x.reshape(pie_train_x.shape[0],pie_train_x.shape[1]**2)"
      ],
      "metadata": {
        "id": "k2q8JmRatgSS"
      },
      "execution_count": null,
      "outputs": []
    },
    {
      "cell_type": "code",
      "source": [
        "\"\"\"Reshape testing x data\"\"\"\n",
        "mnist_test_x_reshape = mnist_test_x.reshape(mnist_test_x.shape[0],mnist_test_x.shape[1]**2)\n",
        "pie_test_x_reshape = pie_test_x.reshape(pie_test_x.shape[0],pie_test_x.shape[1]**2)"
      ],
      "metadata": {
        "id": "ZIFhEUr8gLZy"
      },
      "execution_count": null,
      "outputs": []
    },
    {
      "cell_type": "markdown",
      "source": [
        "### Model Prototyping - Baseline"
      ],
      "metadata": {
        "id": "DETu5-NGPWGY"
      }
    },
    {
      "cell_type": "markdown",
      "source": [
        "#### PIE"
      ],
      "metadata": {
        "id": "hbWjI-G8DJqM"
      }
    },
    {
      "cell_type": "code",
      "source": [
        "pipe_pie = Pipeline(\n",
        "    [('scaled',StandardScaler()),\n",
        "     ('svc',SVC())\n",
        "     ])\n",
        "pipe_pie.fit(pie_train_x_reshape,pie_train_y)\n",
        "pie_pred = pipe_pie.predict(pie_test_x_reshape)"
      ],
      "metadata": {
        "id": "aNfW9oSTDLDJ"
      },
      "execution_count": null,
      "outputs": []
    },
    {
      "cell_type": "markdown",
      "source": [
        "#### Yale"
      ],
      "metadata": {
        "id": "kOs8K3AZ8vig"
      }
    },
    {
      "cell_type": "code",
      "source": [
        "yale_data_call = np.array([yale_train1_x, yale_test1_x, yale_train1_y, yale_test1_y, yale_train2_x, yale_test2_x, yale_train2_y, yale_test2_y, yale_train3_x, yale_test3_x, yale_train3_y, yale_test3_y],dtype='object')\n",
        "acc_yale = np.zeros(3)\n",
        "f1_yale = np.empty_like(acc_yale)\n",
        "roc_yale = np.empty_like(acc_yale)\n",
        "model_yale_dstructre = {}\n",
        "pred_yale_dstructre = {}\n",
        "for i in range(0,3):\n",
        "  train_data, test_data, train_target, test_target = yale_data_call[0 + i*4], yale_data_call[1 + i*4], yale_data_call[2 + i*4], yale_data_call[3 + i*4]\n",
        "\n",
        "  ### Model Training ###\n",
        "  pipe_yale = Pipeline(\n",
        "    [('scaled',StandardScaler()),\n",
        "     ('svc',SVC())\n",
        "     ])\n",
        "  pipe_yale.fit(train_data,train_target) \n",
        "\n",
        "  ###Model Pred####\n",
        "  yale_pred = pipe_yale.predict(test_data)\n",
        "  \n",
        "  ###Model Eval Metrics###\n",
        "  f1_yale[i], acc_yale[i],roc_yale[i] = model_eval(test_target,yale_pred,'yale')\n",
        "  ###Saving model, pred, eval metrics###\n",
        "  pred_yale_dstructre[f'pred_{i}'] = yale_pred\n",
        "  model_yale_dstructre[f'model_{i}'] =pipe_yale "
      ],
      "metadata": {
        "id": "-l-HDP_k8xc8"
      },
      "execution_count": null,
      "outputs": []
    },
    {
      "cell_type": "markdown",
      "source": [
        "#### MNST"
      ],
      "metadata": {
        "id": "EgzKWHAWDKQp"
      }
    },
    {
      "cell_type": "code",
      "source": [
        "mnst_pie = Pipeline(\n",
        "    [('scaled',StandardScaler()),\n",
        "     ('svc',SVC())\n",
        "     ])\n",
        "\n",
        "mnst_pie.fit(mnist_train_x_reshape, mnist_train_y)\n",
        "mnst_pred = mnst_pie.predict(mnist_test_x_reshape)"
      ],
      "metadata": {
        "id": "WhFCt0maPa9d"
      },
      "execution_count": null,
      "outputs": []
    },
    {
      "cell_type": "code",
      "source": [
        "mnist_val_x_reshape = mnist_val_x.reshape(mnist_val_x.shape[0],mnist_val_x.shape[1]**2)\n",
        "mnst_pie.predict()"
      ],
      "metadata": {
        "id": "ajEQZrtYhY0M"
      },
      "execution_count": null,
      "outputs": []
    },
    {
      "cell_type": "markdown",
      "source": [
        "### Model Performance - Baseline"
      ],
      "metadata": {
        "id": "8TqpGEvNPbMm"
      }
    },
    {
      "cell_type": "markdown",
      "source": [
        "#### PIE"
      ],
      "metadata": {
        "id": "qXX-Bo4xUvtL"
      }
    },
    {
      "cell_type": "code",
      "source": [
        "pie_f1,pie_acc,pie_roc = model_eval(pie_test_y, pie_pred,'pie')\n",
        "print(f'Pie accuracy: {pie_acc}')\n",
        "print(f'Pie F1: {pie_f1}')\n",
        "print(f'Pie ROC: {pie_roc}')"
      ],
      "metadata": {
        "id": "uOgLDz-zQ_eu",
        "colab": {
          "base_uri": "https://localhost:8080/"
        },
        "outputId": "94997709-1b41-4f57-d27e-233fcd349c6e"
      },
      "execution_count": null,
      "outputs": [
        {
          "output_type": "stream",
          "name": "stdout",
          "text": [
            "Pie accuracy: 0.9615\n",
            "Pie F1: 0.9643\n",
            "Pie ROC: 0.9805\n"
          ]
        }
      ]
    },
    {
      "cell_type": "markdown",
      "source": [
        "#### MNIST\n"
      ],
      "metadata": {
        "id": "GC_Ok5CiUwJt"
      }
    },
    {
      "cell_type": "code",
      "source": [
        "mnst_f1, mnst_acc, mnst_roc = model_eval(mnist_test_y, mnst_pred,'mnst')\n",
        "print(f'MNST accuracy: {mnst_acc}')\n",
        "print(f'MNST F1: {mnst_f1}')\n",
        "print(f'MNST ROC:  {mnst_roc}')"
      ],
      "metadata": {
        "id": "I7pVUgJ9U5gY",
        "colab": {
          "base_uri": "https://localhost:8080/"
        },
        "outputId": "8caac127-9c70-4224-a726-aee2ed5907d3"
      },
      "execution_count": null,
      "outputs": [
        {
          "output_type": "stream",
          "name": "stdout",
          "text": [
            "mnst here\n",
            "MNST accuracy: 0.9672\n",
            "MNST F1: 0.9672\n",
            "MNST ROC:  0.9818\n"
          ]
        }
      ]
    },
    {
      "cell_type": "markdown",
      "source": [
        "#### Yale"
      ],
      "metadata": {
        "id": "F4v9vwmKB4J5"
      }
    },
    {
      "cell_type": "code",
      "source": [
        "print(f'Yale accuracy: {round(acc_yale.mean(),4)}')\n",
        "print(f'Yale F1: {round(f1_yale.mean(),4)}')\n",
        "print(f'Yale ROC: {round(roc_yale.mean(),4)}')"
      ],
      "metadata": {
        "colab": {
          "base_uri": "https://localhost:8080/"
        },
        "id": "mUc9-JXF4VOi",
        "outputId": "257e2351-6802-4fed-84b2-ec4adc2dfa93"
      },
      "execution_count": null,
      "outputs": [
        {
          "output_type": "stream",
          "name": "stdout",
          "text": [
            "Yale accuracy: 0.9284\n",
            "Yale F1: 0.9413\n",
            "Yale ROC: 0.9632\n"
          ]
        }
      ]
    },
    {
      "cell_type": "markdown",
      "source": [
        "### HP Tuning"
      ],
      "metadata": {
        "id": "WteRh_-MXfxr"
      }
    },
    {
      "cell_type": "code",
      "source": [
        "kernel_tosearch = [\"poly\",\"rbf\",\"sigmoid\"]"
      ],
      "metadata": {
        "id": "jc24P1W26pXh"
      },
      "execution_count": null,
      "outputs": []
    },
    {
      "cell_type": "markdown",
      "source": [
        "#### KFold for YaleB"
      ],
      "metadata": {
        "id": "yDBx4D4HYTG8"
      }
    },
    {
      "cell_type": "code",
      "source": [
        "n_folds = 3"
      ],
      "metadata": {
        "id": "4jjWOdfxYWIe"
      },
      "execution_count": null,
      "outputs": []
    },
    {
      "cell_type": "markdown",
      "source": [
        "#### Val Set for Pie and MNIST"
      ],
      "metadata": {
        "id": "aPbaaoniYWew"
      }
    },
    {
      "cell_type": "markdown",
      "source": [
        "##### Pie"
      ],
      "metadata": {
        "id": "0am3_tncMUfb"
      }
    },
    {
      "cell_type": "code",
      "source": [
        "pie_val_f1 = np.zeros(len(kernel_tosearch)) #init eval metric arrays len of possible kernals\n",
        "pie_val_acc = np.empty_like(pie_val_f1)\n",
        "pie_val_roc = np.empty_like(pie_val_f1)"
      ],
      "metadata": {
        "id": "F0tGQiS6_MRS"
      },
      "execution_count": null,
      "outputs": []
    },
    {
      "cell_type": "code",
      "source": [
        "for i in enumerate(kernel_tosearch): #for each possible kernel\n",
        "  pipe_pie[1].set_params(**{\"kernel\":i[1]}) #set the kernel to new option\n",
        "  pipe_pie.fit(pie_train_x_reshape,pie_train_y) #fit on test\n",
        "  pie_val_pred = pipe_pie.predict(pie_val_x.reshape(pie_val_x.shape[0],pie_val_x.shape[1]**2)) #pred on val\n",
        "  pie_val_f1[i[0]], pie_val_acc[i[0]], pie_val_roc[i[0]] = model_eval(pie_val_y, pie_val_pred,'pie') #model eval pred val vs val_y"
      ],
      "metadata": {
        "colab": {
          "base_uri": "https://localhost:8080/"
        },
        "id": "DndaiAk_YZ7K",
        "outputId": "41f227e4-b185-4433-d03e-4ed6818a251d"
      },
      "execution_count": null,
      "outputs": [
        {
          "output_type": "stream",
          "name": "stdout",
          "text": [
            "{'kernel': 'poly'}\n",
            "{'kernel': 'rbf'}\n",
            "{'kernel': 'sigmoid'}\n"
          ]
        }
      ]
    },
    {
      "cell_type": "code",
      "source": [
        "pie_val_data = np.vstack((pie_val_f1, pie_val_acc, pie_val_roc))\n",
        "pie_val_data_pd = pd.DataFrame(pie_val_data,columns = kernel_tosearch)\n",
        "pie_val_data_pd['eval_params']=['f1','acc','roc']\n",
        "pie_val_data_pd.set_index(\"eval_params\",inplace=True)"
      ],
      "metadata": {
        "id": "WKiQYWH0uDX1"
      },
      "execution_count": null,
      "outputs": []
    },
    {
      "cell_type": "code",
      "source": [
        "print('Validation Performance')\n",
        "pie_val_data_pd"
      ],
      "metadata": {
        "colab": {
          "base_uri": "https://localhost:8080/",
          "height": 193
        },
        "id": "t2dyfDSIMN0w",
        "outputId": "37667fc3-a649-45ce-eda2-0ca22886b995"
      },
      "execution_count": null,
      "outputs": [
        {
          "output_type": "stream",
          "name": "stdout",
          "text": [
            "Validation Performance\n"
          ]
        },
        {
          "output_type": "execute_result",
          "data": {
            "text/plain": [
              "               poly     rbf  sigmoid\n",
              "eval_params                         \n",
              "f1           0.8851  0.9602   0.3899\n",
              "acc          0.8686  0.9562   0.3323\n",
              "roc          0.9335  0.9778   0.6625"
            ],
            "text/html": [
              "\n",
              "  <div id=\"df-ba95ceb4-b94a-41d0-9456-7da975898aaf\">\n",
              "    <div class=\"colab-df-container\">\n",
              "      <div>\n",
              "<style scoped>\n",
              "    .dataframe tbody tr th:only-of-type {\n",
              "        vertical-align: middle;\n",
              "    }\n",
              "\n",
              "    .dataframe tbody tr th {\n",
              "        vertical-align: top;\n",
              "    }\n",
              "\n",
              "    .dataframe thead th {\n",
              "        text-align: right;\n",
              "    }\n",
              "</style>\n",
              "<table border=\"1\" class=\"dataframe\">\n",
              "  <thead>\n",
              "    <tr style=\"text-align: right;\">\n",
              "      <th></th>\n",
              "      <th>poly</th>\n",
              "      <th>rbf</th>\n",
              "      <th>sigmoid</th>\n",
              "    </tr>\n",
              "    <tr>\n",
              "      <th>eval_params</th>\n",
              "      <th></th>\n",
              "      <th></th>\n",
              "      <th></th>\n",
              "    </tr>\n",
              "  </thead>\n",
              "  <tbody>\n",
              "    <tr>\n",
              "      <th>f1</th>\n",
              "      <td>0.8851</td>\n",
              "      <td>0.9602</td>\n",
              "      <td>0.3899</td>\n",
              "    </tr>\n",
              "    <tr>\n",
              "      <th>acc</th>\n",
              "      <td>0.8686</td>\n",
              "      <td>0.9562</td>\n",
              "      <td>0.3323</td>\n",
              "    </tr>\n",
              "    <tr>\n",
              "      <th>roc</th>\n",
              "      <td>0.9335</td>\n",
              "      <td>0.9778</td>\n",
              "      <td>0.6625</td>\n",
              "    </tr>\n",
              "  </tbody>\n",
              "</table>\n",
              "</div>\n",
              "      <button class=\"colab-df-convert\" onclick=\"convertToInteractive('df-ba95ceb4-b94a-41d0-9456-7da975898aaf')\"\n",
              "              title=\"Convert this dataframe to an interactive table.\"\n",
              "              style=\"display:none;\">\n",
              "        \n",
              "  <svg xmlns=\"http://www.w3.org/2000/svg\" height=\"24px\"viewBox=\"0 0 24 24\"\n",
              "       width=\"24px\">\n",
              "    <path d=\"M0 0h24v24H0V0z\" fill=\"none\"/>\n",
              "    <path d=\"M18.56 5.44l.94 2.06.94-2.06 2.06-.94-2.06-.94-.94-2.06-.94 2.06-2.06.94zm-11 1L8.5 8.5l.94-2.06 2.06-.94-2.06-.94L8.5 2.5l-.94 2.06-2.06.94zm10 10l.94 2.06.94-2.06 2.06-.94-2.06-.94-.94-2.06-.94 2.06-2.06.94z\"/><path d=\"M17.41 7.96l-1.37-1.37c-.4-.4-.92-.59-1.43-.59-.52 0-1.04.2-1.43.59L10.3 9.45l-7.72 7.72c-.78.78-.78 2.05 0 2.83L4 21.41c.39.39.9.59 1.41.59.51 0 1.02-.2 1.41-.59l7.78-7.78 2.81-2.81c.8-.78.8-2.07 0-2.86zM5.41 20L4 18.59l7.72-7.72 1.47 1.35L5.41 20z\"/>\n",
              "  </svg>\n",
              "      </button>\n",
              "      \n",
              "  <style>\n",
              "    .colab-df-container {\n",
              "      display:flex;\n",
              "      flex-wrap:wrap;\n",
              "      gap: 12px;\n",
              "    }\n",
              "\n",
              "    .colab-df-convert {\n",
              "      background-color: #E8F0FE;\n",
              "      border: none;\n",
              "      border-radius: 50%;\n",
              "      cursor: pointer;\n",
              "      display: none;\n",
              "      fill: #1967D2;\n",
              "      height: 32px;\n",
              "      padding: 0 0 0 0;\n",
              "      width: 32px;\n",
              "    }\n",
              "\n",
              "    .colab-df-convert:hover {\n",
              "      background-color: #E2EBFA;\n",
              "      box-shadow: 0px 1px 2px rgba(60, 64, 67, 0.3), 0px 1px 3px 1px rgba(60, 64, 67, 0.15);\n",
              "      fill: #174EA6;\n",
              "    }\n",
              "\n",
              "    [theme=dark] .colab-df-convert {\n",
              "      background-color: #3B4455;\n",
              "      fill: #D2E3FC;\n",
              "    }\n",
              "\n",
              "    [theme=dark] .colab-df-convert:hover {\n",
              "      background-color: #434B5C;\n",
              "      box-shadow: 0px 1px 3px 1px rgba(0, 0, 0, 0.15);\n",
              "      filter: drop-shadow(0px 1px 2px rgba(0, 0, 0, 0.3));\n",
              "      fill: #FFFFFF;\n",
              "    }\n",
              "  </style>\n",
              "\n",
              "      <script>\n",
              "        const buttonEl =\n",
              "          document.querySelector('#df-ba95ceb4-b94a-41d0-9456-7da975898aaf button.colab-df-convert');\n",
              "        buttonEl.style.display =\n",
              "          google.colab.kernel.accessAllowed ? 'block' : 'none';\n",
              "\n",
              "        async function convertToInteractive(key) {\n",
              "          const element = document.querySelector('#df-ba95ceb4-b94a-41d0-9456-7da975898aaf');\n",
              "          const dataTable =\n",
              "            await google.colab.kernel.invokeFunction('convertToInteractive',\n",
              "                                                     [key], {});\n",
              "          if (!dataTable) return;\n",
              "\n",
              "          const docLinkHtml = 'Like what you see? Visit the ' +\n",
              "            '<a target=\"_blank\" href=https://colab.research.google.com/notebooks/data_table.ipynb>data table notebook</a>'\n",
              "            + ' to learn more about interactive tables.';\n",
              "          element.innerHTML = '';\n",
              "          dataTable['output_type'] = 'display_data';\n",
              "          await google.colab.output.renderOutput(dataTable, element);\n",
              "          const docLink = document.createElement('div');\n",
              "          docLink.innerHTML = docLinkHtml;\n",
              "          element.appendChild(docLink);\n",
              "        }\n",
              "      </script>\n",
              "    </div>\n",
              "  </div>\n",
              "  "
            ]
          },
          "metadata": {},
          "execution_count": 124
        }
      ]
    },
    {
      "cell_type": "markdown",
      "source": [
        "##### MNIST"
      ],
      "metadata": {
        "id": "CPO3N0GbMZTb"
      }
    },
    {
      "cell_type": "code",
      "source": [
        "mnist_val_f1 = np.zeros(len(kernel_tosearch)) #init eval metric arrays len of possible kernals\n",
        "mnist_val_acc = np.empty_like(mnist_val_f1)\n",
        "mnist_val_roc = np.empty_like(mnist_val_f1)\n",
        "for i in enumerate(kernel_tosearch): #for each possible kernel\n",
        "  mnst_pie[1].set_params(**{\"kernel\":i[1]}) #set the kernel to new option\n",
        "  mnst_pie.fit(mnist_train_x_reshape,mnist_train_y) #fit on test\n",
        "  mnist_val_pred = mnst_pie.predict(mnist_val_x.reshape(mnist_val_x.shape[0],mnist_val_x.shape[1]**2)) #pred on val\n",
        "  mnist_val_f1[i[0]], mnist_val_acc[i[0]], mnist_val_roc[i[0]] = model_eval(mnist_val_y, mnist_val_pred,'mnst') #model eval pred val vs val_y"
      ],
      "metadata": {
        "colab": {
          "base_uri": "https://localhost:8080/"
        },
        "id": "yj_el5saMiqx",
        "outputId": "916c0d1f-c3c9-40a5-cea5-366b1188613e"
      },
      "execution_count": null,
      "outputs": [
        {
          "output_type": "stream",
          "name": "stdout",
          "text": [
            "mnst here\n",
            "mnst here\n",
            "mnst here\n"
          ]
        }
      ]
    },
    {
      "cell_type": "code",
      "source": [
        "mnist_val_data = np.vstack((mnist_val_f1, mnist_val_acc, mnist_val_roc))\n",
        "mnst_val_data_pd = pd.DataFrame(mnist_val_data,columns = kernel_tosearch)\n",
        "mnst_val_data_pd['eval_params']=['f1','acc','roc']\n",
        "mnst_val_data_pd.set_index(\"eval_params\",inplace=True)\n",
        "print('Validation Performance')\n",
        "mnst_val_data_pd"
      ],
      "metadata": {
        "colab": {
          "base_uri": "https://localhost:8080/",
          "height": 193
        },
        "id": "n190P4F6Ni8L",
        "outputId": "23b2de0d-442e-49d1-8ffa-b82022934784"
      },
      "execution_count": null,
      "outputs": [
        {
          "output_type": "stream",
          "name": "stdout",
          "text": [
            "Validation Performance\n"
          ]
        },
        {
          "output_type": "execute_result",
          "data": {
            "text/plain": [
              "               poly     rbf  sigmoid\n",
              "eval_params                         \n",
              "f1           0.9563  0.9639   0.8837\n",
              "acc          0.9559  0.9639   0.8839\n",
              "roc          0.9755  0.9799   0.9356"
            ],
            "text/html": [
              "\n",
              "  <div id=\"df-2f1a0bcd-0729-4938-8fa1-fc8031b02819\">\n",
              "    <div class=\"colab-df-container\">\n",
              "      <div>\n",
              "<style scoped>\n",
              "    .dataframe tbody tr th:only-of-type {\n",
              "        vertical-align: middle;\n",
              "    }\n",
              "\n",
              "    .dataframe tbody tr th {\n",
              "        vertical-align: top;\n",
              "    }\n",
              "\n",
              "    .dataframe thead th {\n",
              "        text-align: right;\n",
              "    }\n",
              "</style>\n",
              "<table border=\"1\" class=\"dataframe\">\n",
              "  <thead>\n",
              "    <tr style=\"text-align: right;\">\n",
              "      <th></th>\n",
              "      <th>poly</th>\n",
              "      <th>rbf</th>\n",
              "      <th>sigmoid</th>\n",
              "    </tr>\n",
              "    <tr>\n",
              "      <th>eval_params</th>\n",
              "      <th></th>\n",
              "      <th></th>\n",
              "      <th></th>\n",
              "    </tr>\n",
              "  </thead>\n",
              "  <tbody>\n",
              "    <tr>\n",
              "      <th>f1</th>\n",
              "      <td>0.9563</td>\n",
              "      <td>0.9639</td>\n",
              "      <td>0.8837</td>\n",
              "    </tr>\n",
              "    <tr>\n",
              "      <th>acc</th>\n",
              "      <td>0.9559</td>\n",
              "      <td>0.9639</td>\n",
              "      <td>0.8839</td>\n",
              "    </tr>\n",
              "    <tr>\n",
              "      <th>roc</th>\n",
              "      <td>0.9755</td>\n",
              "      <td>0.9799</td>\n",
              "      <td>0.9356</td>\n",
              "    </tr>\n",
              "  </tbody>\n",
              "</table>\n",
              "</div>\n",
              "      <button class=\"colab-df-convert\" onclick=\"convertToInteractive('df-2f1a0bcd-0729-4938-8fa1-fc8031b02819')\"\n",
              "              title=\"Convert this dataframe to an interactive table.\"\n",
              "              style=\"display:none;\">\n",
              "        \n",
              "  <svg xmlns=\"http://www.w3.org/2000/svg\" height=\"24px\"viewBox=\"0 0 24 24\"\n",
              "       width=\"24px\">\n",
              "    <path d=\"M0 0h24v24H0V0z\" fill=\"none\"/>\n",
              "    <path d=\"M18.56 5.44l.94 2.06.94-2.06 2.06-.94-2.06-.94-.94-2.06-.94 2.06-2.06.94zm-11 1L8.5 8.5l.94-2.06 2.06-.94-2.06-.94L8.5 2.5l-.94 2.06-2.06.94zm10 10l.94 2.06.94-2.06 2.06-.94-2.06-.94-.94-2.06-.94 2.06-2.06.94z\"/><path d=\"M17.41 7.96l-1.37-1.37c-.4-.4-.92-.59-1.43-.59-.52 0-1.04.2-1.43.59L10.3 9.45l-7.72 7.72c-.78.78-.78 2.05 0 2.83L4 21.41c.39.39.9.59 1.41.59.51 0 1.02-.2 1.41-.59l7.78-7.78 2.81-2.81c.8-.78.8-2.07 0-2.86zM5.41 20L4 18.59l7.72-7.72 1.47 1.35L5.41 20z\"/>\n",
              "  </svg>\n",
              "      </button>\n",
              "      \n",
              "  <style>\n",
              "    .colab-df-container {\n",
              "      display:flex;\n",
              "      flex-wrap:wrap;\n",
              "      gap: 12px;\n",
              "    }\n",
              "\n",
              "    .colab-df-convert {\n",
              "      background-color: #E8F0FE;\n",
              "      border: none;\n",
              "      border-radius: 50%;\n",
              "      cursor: pointer;\n",
              "      display: none;\n",
              "      fill: #1967D2;\n",
              "      height: 32px;\n",
              "      padding: 0 0 0 0;\n",
              "      width: 32px;\n",
              "    }\n",
              "\n",
              "    .colab-df-convert:hover {\n",
              "      background-color: #E2EBFA;\n",
              "      box-shadow: 0px 1px 2px rgba(60, 64, 67, 0.3), 0px 1px 3px 1px rgba(60, 64, 67, 0.15);\n",
              "      fill: #174EA6;\n",
              "    }\n",
              "\n",
              "    [theme=dark] .colab-df-convert {\n",
              "      background-color: #3B4455;\n",
              "      fill: #D2E3FC;\n",
              "    }\n",
              "\n",
              "    [theme=dark] .colab-df-convert:hover {\n",
              "      background-color: #434B5C;\n",
              "      box-shadow: 0px 1px 3px 1px rgba(0, 0, 0, 0.15);\n",
              "      filter: drop-shadow(0px 1px 2px rgba(0, 0, 0, 0.3));\n",
              "      fill: #FFFFFF;\n",
              "    }\n",
              "  </style>\n",
              "\n",
              "      <script>\n",
              "        const buttonEl =\n",
              "          document.querySelector('#df-2f1a0bcd-0729-4938-8fa1-fc8031b02819 button.colab-df-convert');\n",
              "        buttonEl.style.display =\n",
              "          google.colab.kernel.accessAllowed ? 'block' : 'none';\n",
              "\n",
              "        async function convertToInteractive(key) {\n",
              "          const element = document.querySelector('#df-2f1a0bcd-0729-4938-8fa1-fc8031b02819');\n",
              "          const dataTable =\n",
              "            await google.colab.kernel.invokeFunction('convertToInteractive',\n",
              "                                                     [key], {});\n",
              "          if (!dataTable) return;\n",
              "\n",
              "          const docLinkHtml = 'Like what you see? Visit the ' +\n",
              "            '<a target=\"_blank\" href=https://colab.research.google.com/notebooks/data_table.ipynb>data table notebook</a>'\n",
              "            + ' to learn more about interactive tables.';\n",
              "          element.innerHTML = '';\n",
              "          dataTable['output_type'] = 'display_data';\n",
              "          await google.colab.output.renderOutput(dataTable, element);\n",
              "          const docLink = document.createElement('div');\n",
              "          docLink.innerHTML = docLinkHtml;\n",
              "          element.appendChild(docLink);\n",
              "        }\n",
              "      </script>\n",
              "    </div>\n",
              "  </div>\n",
              "  "
            ]
          },
          "metadata": {},
          "execution_count": 26
        }
      ]
    },
    {
      "cell_type": "markdown",
      "source": [
        "### Final Model"
      ],
      "metadata": {
        "id": "w_RBidUfoBQ-"
      }
    },
    {
      "cell_type": "markdown",
      "source": [
        "#### PIE"
      ],
      "metadata": {
        "id": "2hXj8deDoDmn"
      }
    },
    {
      "cell_type": "code",
      "source": [
        "pie_final_pipe = Pipeline(\n",
        "    [('scaled',StandardScaler()),\n",
        "     ('svc',SVC(kernel ='rbf'))\n",
        "     ])\n",
        "pie_final_pipe.fit(pie_train_x_reshape,pie_train_y)\n",
        "pie_pred_final = pie_final_pipe.predict(pie_test_x_reshape)"
      ],
      "metadata": {
        "id": "auETw08moC6d"
      },
      "execution_count": null,
      "outputs": []
    },
    {
      "cell_type": "markdown",
      "source": [
        "#### MNIST"
      ],
      "metadata": {
        "id": "RHRVptAwoERX"
      }
    },
    {
      "cell_type": "code",
      "source": [
        "mnist_final_pipe = Pipeline(\n",
        "    [('scaled',StandardScaler()),\n",
        "     ('svc',SVC(kernel ='rbf'))\n",
        "     ])\n",
        "mnist_final_pipe.fit(mnist_train_x_reshape,mnist_train_y)\n",
        "mnist_pred_final = mnist_final_pipe.predict(mnist_test_x_reshape)"
      ],
      "metadata": {
        "id": "JuVHw5lzo0d2"
      },
      "execution_count": null,
      "outputs": []
    },
    {
      "cell_type": "markdown",
      "source": [
        "#### Yale"
      ],
      "metadata": {
        "id": "PMDvN374o1Jz"
      }
    },
    {
      "cell_type": "code",
      "source": [
        ""
      ],
      "metadata": {
        "id": "JLu6laANo1oY"
      },
      "execution_count": null,
      "outputs": []
    },
    {
      "cell_type": "markdown",
      "source": [
        "### Model Performance - Final"
      ],
      "metadata": {
        "id": "9xeBNSdao4Zl"
      }
    },
    {
      "cell_type": "markdown",
      "source": [
        "#### PIE"
      ],
      "metadata": {
        "id": "yvsSzSJ2pFq1"
      }
    },
    {
      "cell_type": "code",
      "source": [
        "pie_f1_final,pie_acc_final,pie_roc_final = model_eval(pie_test_y, pie_pred_final,'pie')\n",
        "print(f'Pie accuracy Final: {pie_acc_final}')\n",
        "print(f'Pie F1 Final: {pie_f1_final}')\n",
        "print(f'Pie ROC Final: {pie_roc_final}')"
      ],
      "metadata": {
        "colab": {
          "base_uri": "https://localhost:8080/"
        },
        "id": "7QNoEgHSpGGu",
        "outputId": "6a71ec03-32d3-4eac-dc21-d90112631dcd"
      },
      "execution_count": null,
      "outputs": [
        {
          "output_type": "stream",
          "name": "stdout",
          "text": [
            "Pie accuracy Final: 0.9663\n",
            "Pie F1 Final: 0.9685\n",
            "Pie ROC Final: 0.9829\n"
          ]
        }
      ]
    },
    {
      "cell_type": "markdown",
      "source": [
        "#### MNIST"
      ],
      "metadata": {
        "id": "QhPECwdVpGni"
      }
    },
    {
      "cell_type": "code",
      "source": [
        "mnist_f1_final,mnist_acc_final,mnist_roc_final = model_eval(mnist_test_y, mnist_pred_final,'mnst')\n",
        "print(f'MNIST accuracy Final: {mnist_acc_final}')\n",
        "print(f'MNIST F1 Final: {mnist_f1_final}')\n",
        "print(f'MNIST ROC Final: {mnist_roc_final}')"
      ],
      "metadata": {
        "colab": {
          "base_uri": "https://localhost:8080/"
        },
        "id": "7PxHop66pG-8",
        "outputId": "a2ba2c53-3b17-4394-a947-e4c9e4641b36"
      },
      "execution_count": null,
      "outputs": [
        {
          "output_type": "stream",
          "name": "stdout",
          "text": [
            "mnst here\n",
            "MNIST accuracy Final: 0.9672\n",
            "MNIST F1 Final: 0.9672\n",
            "MNIST ROC Final: 0.9818\n"
          ]
        }
      ]
    },
    {
      "cell_type": "markdown",
      "source": [
        "#### Yale"
      ],
      "metadata": {
        "id": "h4UJZ7SWp9Ik"
      }
    },
    {
      "cell_type": "code",
      "source": [
        "# yale_f1_final,yale_acc_final,yale_roc_final = model_eval(yale_test_y, yale_pred_final,'mnst')\n",
        "# print(f'YALE accuracy Final: {yale_acc_final}')\n",
        "# print(f'YALE F1 Final: {yale_f1_final}')\n",
        "# print(f'YALE ROC Final: {yale_roc_final}')"
      ],
      "metadata": {
        "id": "7UU6BgGvp9iE"
      },
      "execution_count": null,
      "outputs": []
    }
  ]
}