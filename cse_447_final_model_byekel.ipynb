{
  "nbformat": 4,
  "nbformat_minor": 0,
  "metadata": {
    "colab": {
      "name": "cse_447_final_model_byekel",
      "provenance": [],
      "collapsed_sections": [],
      "toc_visible": true,
      "include_colab_link": true
    },
    "kernelspec": {
      "name": "python3",
      "display_name": "Python 3"
    },
    "language_info": {
      "name": "python"
    },
    "accelerator": "GPU"
  },
  "cells": [
    {
      "cell_type": "markdown",
      "metadata": {
        "id": "view-in-github",
        "colab_type": "text"
      },
      "source": [
        "<a href=\"https://colab.research.google.com/github/byekelchik/ml2_project_2/blob/main/cse_447_final_model_byekel.ipynb\" target=\"_parent\"><img src=\"https://colab.research.google.com/assets/colab-badge.svg\" alt=\"Open In Colab\"/></a>"
      ]
    },
    {
      "cell_type": "code",
      "execution_count": 96,
      "metadata": {
        "id": "_lW-u7cMN66k"
      },
      "outputs": [],
      "source": [
        "import pandas as pd\n",
        "import numpy as np\n",
        "\n",
        "from sklearn.preprocessing import StandardScaler\n",
        "from sklearn.pipeline import Pipeline\n",
        "# from sklearn.metrics\n",
        "from sklearn.svm import SVC\n",
        "from sklearn.model_selection import train_test_split,KFold\n",
        "from sklearn.metrics import confusion_matrix, classification_report, roc_auc_score, f1_score, accuracy_score\n",
        "\n",
        "import matplotlib.pyplot as plt\n",
        "\n",
        "from keras.datasets import mnist\n",
        "from keras.utils import np_utils"
      ]
    },
    {
      "cell_type": "code",
      "source": [
        "from google.colab import drive\n",
        "drive.mount('/content/drive')"
      ],
      "metadata": {
        "colab": {
          "base_uri": "https://localhost:8080/"
        },
        "id": "zKfPWL5dd1Cj",
        "outputId": "3fb38caf-5a75-4b41-9ad9-3b5de06c56b6"
      },
      "execution_count": 3,
      "outputs": [
        {
          "output_type": "stream",
          "name": "stdout",
          "text": [
            "Mounted at /content/drive\n"
          ]
        }
      ]
    },
    {
      "cell_type": "markdown",
      "source": [
        "\n",
        "### Data import and preprocessing"
      ],
      "metadata": {
        "id": "NzQe0UBSOyCZ"
      }
    },
    {
      "cell_type": "code",
      "source": [
        "def get_mnist():\n",
        "  \"\"\"\n",
        "  Uses the paths from Keras to load MNIST data, creates train and test split of 90% and 10% of the training data\n",
        "\n",
        "  ##Returns:\n",
        "  - train_x: 90% of training data features\n",
        "  - test_x: 10% of training data features\n",
        "  - train_y: respective 90% of labels\n",
        "  - test_y respective 10% of labels\n",
        "  \"\"\"\n",
        "  \n",
        "  (train_data_complete, train_target_complete), (test_data_complete, test_target_complete) = mnist.load_data()\n",
        "  train_x, test_x, train_y, test_y = train_test_split(train_data_complete, train_target_complete, test_size = 0.1)\n",
        "  return train_x, test_x, train_y, test_y"
      ],
      "metadata": {
        "id": "qRWS7YRxOydq"
      },
      "execution_count": 44,
      "outputs": []
    },
    {
      "cell_type": "code",
      "source": [
        "def get_pie():\n",
        "  \"\"\"\n",
        "  Uses the paths on drive to get pie train and test\n",
        "\n",
        "  ##Returns:\n",
        "  - train_x: 90% of training data features\n",
        "  - test_x: 10% of training data features\n",
        "  - train_y: respective 90% of labels\n",
        "  - test_y respective 10% of labels\n",
        "  \"\"\"\n",
        "  path_pie_train = \"/content/drive/MyDrive/PIE_32x32/StTrainFile.txt\"\n",
        "  pie_train = np.loadtxt(path_pie_train, delimiter= \" \", dtype= np.float32)\n",
        "  pie_train_features = pie_train[:, 0:1024]\n",
        "  pie_train_features = np.reshape(pie_train_features, (pie_train_features.shape[0], 32, 32))\n",
        "  pie_train_labels = pie_train[:, 1024]\n",
        "\n",
        "  train_x, test_x, train_y, test_y = train_test_split(pie_train_features, pie_train_labels, test_size = 0.1)\n",
        "  return train_x, test_x, train_y, test_y"
      ],
      "metadata": {
        "id": "jiW7PIrKgafs"
      },
      "execution_count": 45,
      "outputs": []
    },
    {
      "cell_type": "code",
      "source": [
        "def get_yale():\n",
        "  \"\"\"\n",
        "  Uses the paths on drive to get YaleB train and test\n",
        "\n",
        "  ##Returns:\n",
        "  - train1_x: first set training data features\n",
        "  - train1_y: first set training data labels\n",
        "  - test1_x: first set testing data features\n",
        "  - test1_y: first set testing data labels\n",
        "\n",
        "  - train2_x: second set training data features\n",
        "  - train2_y: second set training data labels\n",
        "  - test2_x: second set testing data features\n",
        "  - test2_y: second set testing data labels\n",
        "\n",
        "  - train3_x: third set training data features\n",
        "  - train3_y: third set training data labels\n",
        "  - test3_x: third set testing data features\n",
        "  - test3_y: third set testing data labels\n",
        "  \"\"\"\n",
        "  path_yale_train_1 = \"/content/drive/MyDrive/YaleB_32x32/StTrainFile1.txt\"\n",
        "  path_yale_train_2 = \"/content/drive/MyDrive/YaleB_32x32/StTrainFile2.txt\"\n",
        "  path_yale_train_3 = \"/content/drive/MyDrive/YaleB_32x32/StTrainFile3.txt\"\n",
        "\n",
        "  path_yale_test_1 = \"/content/drive/MyDrive/YaleB_32x32/StTestFile1.txt\"\n",
        "  path_yale_test_2 = \"/content/drive/MyDrive/YaleB_32x32/StTestFile2.txt\"\n",
        "  path_yale_test_3 = \"/content/drive/MyDrive/YaleB_32x32/StTestFile3.txt\" \n",
        "\n",
        "\n",
        "  yale_train_1 = np.loadtxt(path_yale_train_1, delimiter= \" \", dtype= np.float32)\n",
        "  yale_train_2 = np.loadtxt(path_yale_train_2, delimiter= \" \", dtype= np.float32)\n",
        "  yale_train_3 = np.loadtxt(path_yale_train_3, delimiter= \" \", dtype= np.float32)\n",
        "\n",
        "  yale_test_1 = np.loadtxt(path_yale_test_1, delimiter= \" \", dtype= np.float32)\n",
        "  yale_test_2 = np.loadtxt(path_yale_test_2, delimiter= \" \", dtype= np.float32)\n",
        "  yale_test_3 = np.loadtxt(path_yale_test_3, delimiter= \" \", dtype= np.float32)\n",
        "\n",
        "  train1_x = yale_train_1[:, 0:1024]\n",
        "  train1_y = yale_train_1[:, 1024]\n",
        "\n",
        "  train2_x = yale_train_2[:, 0:1024]\n",
        "  train2_y = yale_train_2[:, 1024]\n",
        "\n",
        "  train3_x = yale_train_3[:, 0:1024]\n",
        "  train3_y = yale_train_3[:, 1024]\n",
        "\n",
        "  test1_x = yale_test_1[:, 0:1024]\n",
        "  test1_y = yale_test_1[:, 1024]\n",
        "\n",
        "  test2_x = yale_test_2[:, 0:1024]\n",
        "  test2_y = yale_test_2[:, 1024]\n",
        "\n",
        "  test3_x = yale_test_3[:, 0:1024]\n",
        "  test3_y = yale_test_3[:, 1024]\n",
        "\n",
        "  return train1_x, train1_y, train2_x, train2_y, train3_x, train3_y, test1_x, test1_y, test2_x, test2_y, test3_x, test3_y"
      ],
      "metadata": {
        "id": "1V8ngoVuvZ3k"
      },
      "execution_count": 46,
      "outputs": []
    },
    {
      "cell_type": "code",
      "source": [
        "yale_train1_x, yale_train1_y, yale_train2_x, yale_train2_y, yale_train3_x, yale_train3_y, yale_test1_x, yale_test1_y, yale_test2_x, yale_test2_y, yale_test3_x, yale_test3_y = get_yale()\n",
        "pie_train_x, pie_test_x, pie_train_y, pie_test_y = get_pie()\n",
        "mnist_train_x, mnist_test_x, mnist_train_y, mnist_test_y = get_mnist()"
      ],
      "metadata": {
        "id": "HWloDJmRi2HB",
        "colab": {
          "base_uri": "https://localhost:8080/"
        },
        "outputId": "61232580-1e19-4b99-ffce-87d2e86daac4"
      },
      "execution_count": 47,
      "outputs": [
        {
          "output_type": "stream",
          "name": "stdout",
          "text": [
            "Downloading data from https://storage.googleapis.com/tensorflow/tf-keras-datasets/mnist.npz\n",
            "11493376/11490434 [==============================] - 0s 0us/step\n",
            "11501568/11490434 [==============================] - 0s 0us/step\n"
          ]
        }
      ]
    },
    {
      "cell_type": "markdown",
      "source": [
        "#### Make Valadation Set"
      ],
      "metadata": {
        "id": "nFZZB-rif8hF"
      }
    },
    {
      "cell_type": "code",
      "source": [
        "from sklearn import model_selection\n",
        "val_size = .1\n",
        "pie_train_x, pie_val_x, pie_train_y, pie_val_y = train_test_split(pie_train_x,pie_train_y, test_size = val_size)\n",
        "mnist_train_x, mnist_val_x, mnist_train_y, mnist_val_y = train_test_split(mnist_train_x,mnist_train_y,test_size= val_size)"
      ],
      "metadata": {
        "id": "cEtUJ4KBf7UP"
      },
      "execution_count": 82,
      "outputs": []
    },
    {
      "cell_type": "code",
      "source": [
        "pie_train_x.shape\n",
        "pie_val_x.shape"
      ],
      "metadata": {
        "colab": {
          "base_uri": "https://localhost:8080/"
        },
        "id": "nHxyCBG1sxEU",
        "outputId": "be3dd6f7-efff-4684-e694-c5619e261a03"
      },
      "execution_count": 83,
      "outputs": [
        {
          "output_type": "execute_result",
          "data": {
            "text/plain": [
              "(843, 32, 32)"
            ]
          },
          "metadata": {},
          "execution_count": 83
        }
      ]
    },
    {
      "cell_type": "markdown",
      "source": [
        "#### Reshape"
      ],
      "metadata": {
        "id": "uVA309lQgMnD"
      }
    },
    {
      "cell_type": "code",
      "source": [
        "\"\"\"Reshape train x data\"\"\"\n",
        "mnist_train_x_reshape = mnist_train_x.reshape(mnist_train_x.shape[0],mnist_train_x.shape[1]**2)\n",
        "pie_train_x_reshape = pie_train_x.reshape(pie_train_x.shape[0],pie_train_x.shape[1]**2)"
      ],
      "metadata": {
        "id": "k2q8JmRatgSS"
      },
      "execution_count": 84,
      "outputs": []
    },
    {
      "cell_type": "code",
      "source": [
        "\"\"\"Reshape testing x data\"\"\"\n",
        "mnist_test_x_reshape = mnist_test_x.reshape(mnist_test_x.shape[0],mnist_test_x.shape[1]**2)\n",
        "pie_test_x_reshape = pie_test_x.reshape(pie_test_x.shape[0],pie_test_x.shape[1]**2)"
      ],
      "metadata": {
        "id": "ZIFhEUr8gLZy"
      },
      "execution_count": 85,
      "outputs": []
    },
    {
      "cell_type": "markdown",
      "source": [
        "### Model Prototyping"
      ],
      "metadata": {
        "id": "DETu5-NGPWGY"
      }
    },
    {
      "cell_type": "markdown",
      "source": [
        "#### PIE"
      ],
      "metadata": {
        "id": "hbWjI-G8DJqM"
      }
    },
    {
      "cell_type": "code",
      "source": [
        "pipe_pie = Pipeline(\n",
        "    [('scaled',StandardScaler()),\n",
        "     ('svc',SVC())\n",
        "     ])\n",
        "pipe_pie.fit(pie_train_x_reshape,pie_train_y)\n",
        "pie_pred = pipe_pie.predict(pie_test_x_reshape)"
      ],
      "metadata": {
        "id": "aNfW9oSTDLDJ"
      },
      "execution_count": 87,
      "outputs": []
    },
    {
      "cell_type": "markdown",
      "source": [
        "#### Yale"
      ],
      "metadata": {
        "id": "i9pX3RFhDKC4"
      }
    },
    {
      "cell_type": "code",
      "source": [
        "yale_pie = Pipeline(\n",
        "    [('scaled',StandardScaler()),\n",
        "     ('svc',SVC())\n",
        "     ])"
      ],
      "metadata": {
        "id": "T1WOzXjCDLl-"
      },
      "execution_count": null,
      "outputs": []
    },
    {
      "cell_type": "markdown",
      "source": [
        "#### MNST"
      ],
      "metadata": {
        "id": "EgzKWHAWDKQp"
      }
    },
    {
      "cell_type": "code",
      "source": [
        "mnst_pie = Pipeline(\n",
        "    [('scaled',StandardScaler()),\n",
        "     ('svc',SVC())\n",
        "     ])\n",
        "\n",
        "mnst_pie.fit(mnist_train_x_reshape, mnist_train_y)\n",
        "mnst_pred = mnst_pie.predict(mnist_test_x_reshape)"
      ],
      "metadata": {
        "id": "WhFCt0maPa9d"
      },
      "execution_count": 135,
      "outputs": []
    },
    {
      "cell_type": "markdown",
      "source": [
        "### Model Testing"
      ],
      "metadata": {
        "id": "8TqpGEvNPbMm"
      }
    },
    {
      "cell_type": "code",
      "source": [
        "def model_eval(test, pred,d_set:str):\n",
        "  \"\"\"\n",
        "  Take test and pred array and returns model evaluation metrics\n",
        "  ### Args:\n",
        "  - test: test array\n",
        "  - pred: pred array \n",
        "  -------------------------\n",
        "  ### Return:\n",
        "  - f1: F1 score\n",
        "  - roc: Multi-classification weighted ROC\n",
        "  \"\"\"\n",
        "  if d_set.lower() == 'pie' or 'yale':\n",
        "    pred_cat = np_utils.to_categorical(pred-1)\n",
        "  else:\n",
        "    pred_cat = np_utils.to_categorical(pred)\n",
        "  f1 = f1_score(test, pred, average = 'weighted')\n",
        "  roc = roc_auc_score(test, pred_cat, multi_class = 'ovr', average = 'weighted')\n",
        "  acc = accuracy_score(test,pred)\n",
        "  return round(f1,4), round(acc,4), round(roc,4)"
      ],
      "metadata": {
        "id": "Ou8ejNDgPeqw"
      },
      "execution_count": 173,
      "outputs": []
    },
    {
      "cell_type": "markdown",
      "source": [
        "#### PIE"
      ],
      "metadata": {
        "id": "qXX-Bo4xUvtL"
      }
    },
    {
      "cell_type": "code",
      "source": [
        "pie_f1,pie_acc,pie_roc = model_eval(pie_test_y, pie_pred,'pie')\n",
        "print(f'Pie accuracy: {pie_acc}')\n",
        "print(f'Pie F1: {pie_f1}')\n",
        "print(f'Pie ROC: {pie_roc}')"
      ],
      "metadata": {
        "id": "uOgLDz-zQ_eu",
        "colab": {
          "base_uri": "https://localhost:8080/"
        },
        "outputId": "6477605e-f049-4d11-ad29-2167b037066b"
      },
      "execution_count": 164,
      "outputs": [
        {
          "output_type": "stream",
          "name": "stdout",
          "text": [
            "Pie accuracy: 0.962\n",
            "Pie F1: 0.965\n",
            "Pie ROC: 0.981\n"
          ]
        }
      ]
    },
    {
      "cell_type": "markdown",
      "source": [
        "#### MNIST\n"
      ],
      "metadata": {
        "id": "GC_Ok5CiUwJt"
      }
    },
    {
      "cell_type": "code",
      "source": [
        "mnst_f1, mnst_acc, mnst_roc = model_eval(mnist_test_y, mnst_pred,'mnst')\n",
        "print(f'MNST accuracy: {mnst_acc}')\n",
        "print(f'MNST F1: {mnst_f1}')\n",
        "print(f'MNST ROC:  {mnst_roc}')"
      ],
      "metadata": {
        "id": "I7pVUgJ9U5gY",
        "colab": {
          "base_uri": "https://localhost:8080/"
        },
        "outputId": "3b17bf42-f653-4ae2-b816-0a65df86bf84"
      },
      "execution_count": 165,
      "outputs": [
        {
          "output_type": "stream",
          "name": "stdout",
          "text": [
            "MNST accuracy: 0.966\n",
            "MNST F1: 0.966\n",
            "MNST ROC:  0.981\n"
          ]
        }
      ]
    },
    {
      "cell_type": "markdown",
      "source": [
        "#### Yale"
      ],
      "metadata": {
        "id": "kOs8K3AZ8vig"
      }
    },
    {
      "cell_type": "code",
      "source": [
        "yale_data_call = np.array([yale_train1_x, yale_test1_x, yale_train1_y, yale_test1_y, yale_train2_x, yale_test2_x, yale_train2_y, yale_test2_y, yale_train3_x, yale_test3_x, yale_train3_y, yale_test3_y],dtype='object')\n",
        "acc_yale = np.zeros(3)\n",
        "f1_yale = np.empty_like(acc_yale)\n",
        "roc_yale = np.empty_like(acc_yale)\n",
        "model_yale_dstructre = {}\n",
        "pred_yale_dstructre = {}\n",
        "for i in range(0,3):\n",
        "  train_data, test_data, train_target, test_target = yale_data_call[0 + i*4], yale_data_call[1 + i*4], yale_data_call[2 + i*4], yale_data_call[3 + i*4]\n",
        "\n",
        "  ### Model Training ###\n",
        "  pipe_yale = Pipeline(\n",
        "    [('scaled',StandardScaler()),\n",
        "     ('svc',SVC())\n",
        "     ])\n",
        "  pipe_yale.fit(train_data,train_target) \n",
        "\n",
        "  ###Model Pred####\n",
        "  yale_pred = pipe_yale.predict(test_data)\n",
        "  \n",
        "  ###Model Eval Metrics###\n",
        "  f1_yale[i], acc_yale[i],roc_yale[i] = model_eval(test_target,yale_pred,'yale')\n",
        "  ###Saving model, pred, eval metrics###\n",
        "  pred_yale_dstructre[f'pred_{i}'] = yale_pred\n",
        "  model_yale_dstructre[f'model_{i}'] =pipe_yale "
      ],
      "metadata": {
        "id": "-l-HDP_k8xc8"
      },
      "execution_count": 175,
      "outputs": []
    },
    {
      "cell_type": "code",
      "source": [
        "print(f'Yale accuracy: {round(acc_yale.mean(),4)}')\n",
        "print(f'Yale F1: {round(f1_yale.mean(),4)}')\n",
        "print(f'Yale ROC: {round(roc_yale.mean(),4)}')"
      ],
      "metadata": {
        "colab": {
          "base_uri": "https://localhost:8080/"
        },
        "id": "mUc9-JXF4VOi",
        "outputId": "02c604a1-a147-4d42-8e4c-c8905509321f"
      },
      "execution_count": 176,
      "outputs": [
        {
          "output_type": "stream",
          "name": "stdout",
          "text": [
            "Yale accuracy: 0.9284\n",
            "Yale F1: 0.9413\n",
            "Yale ROC: 0.9632\n"
          ]
        }
      ]
    },
    {
      "cell_type": "markdown",
      "source": [
        "### HP Tuning"
      ],
      "metadata": {
        "id": "WteRh_-MXfxr"
      }
    },
    {
      "cell_type": "code",
      "source": [
        ""
      ],
      "metadata": {
        "id": "rjfrtWH2fNeP"
      },
      "execution_count": null,
      "outputs": []
    },
    {
      "cell_type": "markdown",
      "source": [
        "#### KFold for YaleB"
      ],
      "metadata": {
        "id": "yDBx4D4HYTG8"
      }
    },
    {
      "cell_type": "code",
      "source": [
        "n_folds = 3"
      ],
      "metadata": {
        "id": "4jjWOdfxYWIe"
      },
      "execution_count": 69,
      "outputs": []
    },
    {
      "cell_type": "markdown",
      "source": [
        "#### Val Set for Pie and MNIST"
      ],
      "metadata": {
        "id": "aPbaaoniYWew"
      }
    },
    {
      "cell_type": "code",
      "source": [
        "pie_val_x, pie_val_y"
      ],
      "metadata": {
        "id": "DndaiAk_YZ7K"
      },
      "execution_count": null,
      "outputs": []
    },
    {
      "cell_type": "code",
      "source": [
        "mnist_val_x, mnist_val_y"
      ],
      "metadata": {
        "colab": {
          "base_uri": "https://localhost:8080/"
        },
        "id": "WKiQYWH0uDX1",
        "outputId": "7b69bb53-eb19-433c-f466-4ab6df401941"
      },
      "execution_count": 90,
      "outputs": [
        {
          "output_type": "execute_result",
          "data": {
            "text/plain": [
              "(array([[[0, 0, 0, ..., 0, 0, 0],\n",
              "         [0, 0, 0, ..., 0, 0, 0],\n",
              "         [0, 0, 0, ..., 0, 0, 0],\n",
              "         ...,\n",
              "         [0, 0, 0, ..., 0, 0, 0],\n",
              "         [0, 0, 0, ..., 0, 0, 0],\n",
              "         [0, 0, 0, ..., 0, 0, 0]],\n",
              " \n",
              "        [[0, 0, 0, ..., 0, 0, 0],\n",
              "         [0, 0, 0, ..., 0, 0, 0],\n",
              "         [0, 0, 0, ..., 0, 0, 0],\n",
              "         ...,\n",
              "         [0, 0, 0, ..., 0, 0, 0],\n",
              "         [0, 0, 0, ..., 0, 0, 0],\n",
              "         [0, 0, 0, ..., 0, 0, 0]],\n",
              " \n",
              "        [[0, 0, 0, ..., 0, 0, 0],\n",
              "         [0, 0, 0, ..., 0, 0, 0],\n",
              "         [0, 0, 0, ..., 0, 0, 0],\n",
              "         ...,\n",
              "         [0, 0, 0, ..., 0, 0, 0],\n",
              "         [0, 0, 0, ..., 0, 0, 0],\n",
              "         [0, 0, 0, ..., 0, 0, 0]],\n",
              " \n",
              "        ...,\n",
              " \n",
              "        [[0, 0, 0, ..., 0, 0, 0],\n",
              "         [0, 0, 0, ..., 0, 0, 0],\n",
              "         [0, 0, 0, ..., 0, 0, 0],\n",
              "         ...,\n",
              "         [0, 0, 0, ..., 0, 0, 0],\n",
              "         [0, 0, 0, ..., 0, 0, 0],\n",
              "         [0, 0, 0, ..., 0, 0, 0]],\n",
              " \n",
              "        [[0, 0, 0, ..., 0, 0, 0],\n",
              "         [0, 0, 0, ..., 0, 0, 0],\n",
              "         [0, 0, 0, ..., 0, 0, 0],\n",
              "         ...,\n",
              "         [0, 0, 0, ..., 0, 0, 0],\n",
              "         [0, 0, 0, ..., 0, 0, 0],\n",
              "         [0, 0, 0, ..., 0, 0, 0]],\n",
              " \n",
              "        [[0, 0, 0, ..., 0, 0, 0],\n",
              "         [0, 0, 0, ..., 0, 0, 0],\n",
              "         [0, 0, 0, ..., 0, 0, 0],\n",
              "         ...,\n",
              "         [0, 0, 0, ..., 0, 0, 0],\n",
              "         [0, 0, 0, ..., 0, 0, 0],\n",
              "         [0, 0, 0, ..., 0, 0, 0]]], dtype=uint8),\n",
              " array([9, 1, 4, ..., 9, 0, 2], dtype=uint8))"
            ]
          },
          "metadata": {},
          "execution_count": 90
        }
      ]
    }
  ]
}